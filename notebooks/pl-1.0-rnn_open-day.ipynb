{
 "cells": [
  {
   "cell_type": "code",
   "execution_count": 165,
   "metadata": {},
   "outputs": [],
   "source": [
    "from keras.models import Sequential\n",
    "from keras.layers import *"
   ]
  },
  {
   "cell_type": "code",
   "execution_count": 131,
   "metadata": {},
   "outputs": [],
   "source": [
    "## Help Python find our packages\n",
    "import sys\n",
    "sys.path.append('..')\n",
    "\n",
    "import json\n",
    "import numpy as np\n",
    "import matplotlib.pyplot as plt\n",
    "import domain_scoring.domain_scoring as domain_scoring\n",
    "\n",
    "# Randomness\n",
    "import random as rn\n",
    "import tensorflow as tf\n",
    "import os"
   ]
  },
  {
   "cell_type": "code",
   "execution_count": 3,
   "metadata": {},
   "outputs": [],
   "source": [
    "path = '../rated_datasets/Rotten_Tomato_Merlin_1519148528.2417703.json'"
   ]
  },
  {
   "cell_type": "code",
   "execution_count": 30,
   "metadata": {},
   "outputs": [],
   "source": [
    "merlin = json.load(open(path, \"r\", encoding=\"utf8\"))"
   ]
  },
  {
   "cell_type": "code",
   "execution_count": 5,
   "metadata": {},
   "outputs": [],
   "source": [
    "path = '../rated_datasets/Rotten Tomato_Potato_1519142479.127663.json'"
   ]
  },
  {
   "cell_type": "code",
   "execution_count": 6,
   "metadata": {},
   "outputs": [],
   "source": [
    "potato = json.load(open(path, \"r\", encoding=\"utf8\"))"
   ]
  },
  {
   "cell_type": "code",
   "execution_count": 191,
   "metadata": {},
   "outputs": [
    {
     "data": {
      "text/plain": [
       "['ACTED_IN', 'PRODUCED', 'DIRECTED', 'WROTE', 'Person', 'Movie']"
      ]
     },
     "execution_count": 191,
     "metadata": {},
     "output_type": "execute_result"
    }
   ],
   "source": [
    "type_selection = merlin[\"edge_type_selection\"] + merlin[\"node_type_selection\"]\n",
    "types = []\n",
    "for pair in type_selection:\n",
    "    types.append(pair[0])\n",
    "types"
   ]
  },
  {
   "cell_type": "code",
   "execution_count": 86,
   "metadata": {},
   "outputs": [],
   "source": [
    "def extract_mps(data):\n",
    "    count = 0\n",
    "    first = True\n",
    "    batches = []\n",
    "    batch = []\n",
    "    for probably_path in data[\"meta_paths\"]:\n",
    "        if count % 6 == 0:\n",
    "            # Don't add empty batches\n",
    "            if len(batch) > 0:\n",
    "                batches.append(batch)\n",
    "                batch = []\n",
    "        else:\n",
    "            if 'time_to_rate' not in probably_path.keys():\n",
    "                batch.append(probably_path)\n",
    "        count += 1\n",
    "    # append last batch\n",
    "    if len(batch) > 0:\n",
    "        batches.append(batch)\n",
    "    print('#meta-paths:', count - len(batches) - 1)\n",
    "    return batches"
   ]
  },
  {
   "cell_type": "code",
   "execution_count": 87,
   "metadata": {},
   "outputs": [],
   "source": [
    "def construct_graph(batches):\n",
    "    ## Construct rating graph\n",
    "    from util.datastructures import MetaPathRatingGraph, MetaPath\n",
    "    graph = MetaPathRatingGraph()\n",
    "\n",
    "    for batch in batches:\n",
    "        #ordered = sorted(batch, key=lambda x: float(x['rating']))\n",
    "        for metapath in batch:\n",
    "            for another_metapath in batch:\n",
    "                if metapath is another_metapath:\n",
    "                    continue\n",
    "                if float(metapath['rating']) <= float(another_metapath['rating']):\n",
    "                    graph.add_user_rating(MetaPath.from_list(another_metapath['metapath']), MetaPath.from_list(metapath['metapath']), \n",
    "                                          distance=float(another_metapath['rating']) - float(metapath['rating']))\n",
    "    return graph"
   ]
  },
  {
   "cell_type": "code",
   "execution_count": 88,
   "metadata": {},
   "outputs": [],
   "source": [
    "## Clean up data // remove time_to_rate from array of ratings.\n",
    "def clean_up(data):\n",
    "    batches = extract_mps(data)\n",
    "    return batches, construct_graph(batches)"
   ]
  },
  {
   "cell_type": "code",
   "execution_count": 89,
   "metadata": {},
   "outputs": [
    {
     "name": "stdout",
     "output_type": "stream",
     "text": [
      "#meta-paths: 51\n",
      "#meta-paths: 51\n"
     ]
    }
   ],
   "source": [
    "p_batches, p_graph = clean_up(potato)\n",
    "m_batches, m_graph = clean_up(merlin)"
   ]
  },
  {
   "cell_type": "code",
   "execution_count": 92,
   "metadata": {},
   "outputs": [],
   "source": [
    "from sklearn.feature_extraction.text import TfidfVectorizer\n",
    "from sklearn.model_selection import train_test_split"
   ]
  },
  {
   "cell_type": "code",
   "execution_count": 93,
   "metadata": {},
   "outputs": [],
   "source": [
    "domain_score = domain_scoring.DomainScoring()"
   ]
  },
  {
   "cell_type": "code",
   "execution_count": 94,
   "metadata": {},
   "outputs": [],
   "source": [
    "# Preprocess meta-paths\n",
    "domain_score.vectorizer = TfidfVectorizer(analyzer='word', ngram_range=(1, 2), token_pattern='\\\\b\\\\w+\\\\b')"
   ]
  },
  {
   "cell_type": "code",
   "execution_count": 95,
   "metadata": {},
   "outputs": [],
   "source": [
    "domain_score.fit(m_graph)"
   ]
  },
  {
   "cell_type": "code",
   "execution_count": 175,
   "metadata": {},
   "outputs": [],
   "source": [
    "x, y = domain_score._extract_data_labels(m_graph)\n",
    "x_raw = x\n",
    "x = domain_score._preprocess(x)"
   ]
  },
  {
   "cell_type": "code",
   "execution_count": 202,
   "metadata": {},
   "outputs": [],
   "source": [
    "from sklearn import preprocessing\n",
    "from keras.preprocessing.sequence import pad_sequences"
   ]
  },
  {
   "cell_type": "code",
   "execution_count": 199,
   "metadata": {},
   "outputs": [
    {
     "data": {
      "text/plain": [
       "LabelEncoder()"
      ]
     },
     "execution_count": 199,
     "metadata": {},
     "output_type": "execute_result"
    }
   ],
   "source": [
    "labeler = preprocessing.LabelEncoder()\n",
    "labeler.fit(types)"
   ]
  },
  {
   "cell_type": "code",
   "execution_count": 271,
   "metadata": {},
   "outputs": [],
   "source": [
    "def to_sequence(in_list):\n",
    "    return in_list.reshape((-1, 1))"
   ]
  },
  {
   "cell_type": "code",
   "execution_count": 272,
   "metadata": {},
   "outputs": [],
   "source": [
    "def one_hot(in_sequence, distinct_values):\n",
    "    sequence = np.zeros((len(in_sequence), distinct_values))\n",
    "    i = 0\n",
    "    for point in in_sequence:      \n",
    "        sequence[i][point] = 1\n",
    "        i += 1\n",
    "    return sequence"
   ]
  },
  {
   "cell_type": "code",
   "execution_count": 299,
   "metadata": {},
   "outputs": [],
   "source": [
    "def preprocess_raw(raw, distinct_values, max_len=9):\n",
    "    data = []\n",
    "    for a,b in raw:\n",
    "        # encode labels to integers (0 is reserved for padding)\n",
    "        a = np.array(labeler.transform(a.as_list())) + 1\n",
    "        b = np.array(labeler.transform(b.as_list())) + 1\n",
    "        # pad to same length\n",
    "        a, b = pad_sequences([a, b], max_len, padding='post', value=0)\n",
    "        # merge a and b\n",
    "        sequence = np.append(a, b)\n",
    "        # to sequence\n",
    "        sequence = to_sequence(sequence)\n",
    "        # one-hot encode because we don't have distances/embeddings\n",
    "        sequence = one_hot(sequence, distinct_values + 1)\n",
    "        data.append(sequence)\n",
    "    return data"
   ]
  },
  {
   "cell_type": "code",
   "execution_count": 300,
   "metadata": {},
   "outputs": [],
   "source": [
    "x_preprocess = preprocess_raw(x_raw, len(types))"
   ]
  },
  {
   "cell_type": "code",
   "execution_count": 97,
   "metadata": {},
   "outputs": [],
   "source": [
    "test_size = 0.3\n",
    "random_state = 42"
   ]
  },
  {
   "cell_type": "code",
   "execution_count": 98,
   "metadata": {},
   "outputs": [],
   "source": [
    "x_train, x_test, y_train, y_test = train_test_split(x, y,\n",
    "                                                    test_size=test_size,\n",
    "                                                    random_state=random_state,\n",
    "                                                    shuffle=True)"
   ]
  },
  {
   "cell_type": "code",
   "execution_count": 99,
   "metadata": {},
   "outputs": [
    {
     "data": {
      "text/plain": [
       "131"
      ]
     },
     "execution_count": 99,
     "metadata": {},
     "output_type": "execute_result"
    }
   ],
   "source": [
    "len(x_train)"
   ]
  },
  {
   "cell_type": "code",
   "execution_count": 105,
   "metadata": {},
   "outputs": [
    {
     "data": {
      "text/plain": [
       "(131, 44)"
      ]
     },
     "execution_count": 105,
     "metadata": {},
     "output_type": "execute_result"
    }
   ],
   "source": [
    "np.array(x_train).shape"
   ]
  },
  {
   "cell_type": "code",
   "execution_count": 173,
   "metadata": {},
   "outputs": [],
   "source": [
    "os.environ['PYTHONHASHSEED'] = '0'\n",
    "def reset_seed():\n",
    "    np.random.seed(random_state)\n",
    "    rn.seed(random_state)\n",
    "    tf.set_random_seed(random_state)"
   ]
  },
  {
   "cell_type": "code",
   "execution_count": 319,
   "metadata": {},
   "outputs": [
    {
     "name": "stdout",
     "output_type": "stream",
     "text": [
      "Epoch 1/10\n",
      "131/131 [==============================] - 1s 4ms/step - loss: 0.6956 - acc: 0.5191\n",
      "Epoch 2/10\n",
      "131/131 [==============================] - 0s 106us/step - loss: 0.6822 - acc: 0.5878\n",
      "Epoch 3/10\n",
      "131/131 [==============================] - 0s 163us/step - loss: 0.6758 - acc: 0.5954\n",
      "Epoch 4/10\n",
      "131/131 [==============================] - 0s 141us/step - loss: 0.6717 - acc: 0.6183\n",
      "Epoch 5/10\n",
      "131/131 [==============================] - 0s 137us/step - loss: 0.6690 - acc: 0.6718\n",
      "Epoch 6/10\n",
      "131/131 [==============================] - 0s 149us/step - loss: 0.6659 - acc: 0.6794\n",
      "Epoch 7/10\n",
      "131/131 [==============================] - 0s 171us/step - loss: 0.6623 - acc: 0.6794\n",
      "Epoch 8/10\n",
      "131/131 [==============================] - 0s 145us/step - loss: 0.6610 - acc: 0.6565\n",
      "Epoch 9/10\n",
      "131/131 [==============================] - 0s 228us/step - loss: 0.6575 - acc: 0.6870\n",
      "Epoch 10/10\n",
      "131/131 [==============================] - 0s 204us/step - loss: 0.6559 - acc: 0.6794\n"
     ]
    },
    {
     "data": {
      "text/plain": [
       "<keras.callbacks.History at 0x7f28066d0630>"
      ]
     },
     "execution_count": 319,
     "metadata": {},
     "output_type": "execute_result"
    }
   ],
   "source": [
    "# Reproducible results\n",
    "reset_seed()\n",
    "# Build model\n",
    "model = Sequential()\n",
    "model.add(Dense(44, activation='relu', input_dim=44))\n",
    "model.add(Dense(1, activation='sigmoid'))\n",
    "model.compile(optimizer='rmsprop',\n",
    "              loss='binary_crossentropy',\n",
    "              metrics=['accuracy'])\n",
    "\n",
    "# Train model\n",
    "model.fit(np.array(x_train), np.array(y_train), epochs=10, batch_size=16)"
   ]
  },
  {
   "cell_type": "code",
   "execution_count": 320,
   "metadata": {},
   "outputs": [
    {
     "name": "stdout",
     "output_type": "stream",
     "text": [
      "57/57 [==============================] - 0s 5ms/step\n"
     ]
    },
    {
     "data": {
      "text/plain": [
       "[0.6638993683614229, 0.6491228101546305]"
      ]
     },
     "execution_count": 320,
     "metadata": {},
     "output_type": "execute_result"
    }
   ],
   "source": [
    "model.evaluate(np.array(x_test), np.array(y_test), batch_size=16)"
   ]
  },
  {
   "cell_type": "code",
   "execution_count": 321,
   "metadata": {},
   "outputs": [],
   "source": [
    "x_p_train, x_p_test, y_p_train, y_p_test = train_test_split(x_preprocess, y,\n",
    "                                                    test_size=test_size,\n",
    "                                                    random_state=random_state,\n",
    "                                                    shuffle=True)"
   ]
  },
  {
   "cell_type": "code",
   "execution_count": 322,
   "metadata": {},
   "outputs": [
    {
     "data": {
      "text/plain": [
       "(131, 18, 7)"
      ]
     },
     "execution_count": 322,
     "metadata": {},
     "output_type": "execute_result"
    }
   ],
   "source": [
    "np.array(x_p_train).shape"
   ]
  },
  {
   "cell_type": "code",
   "execution_count": 323,
   "metadata": {},
   "outputs": [
    {
     "name": "stdout",
     "output_type": "stream",
     "text": [
      "Epoch 1/10\n",
      "131/131 [==============================] - 1s 5ms/step - loss: 0.7035 - acc: 0.5725\n",
      "Epoch 2/10\n",
      "131/131 [==============================] - 0s 390us/step - loss: 0.5776 - acc: 0.6641\n",
      "Epoch 3/10\n",
      "131/131 [==============================] - 0s 354us/step - loss: 0.5706 - acc: 0.6641\n",
      "Epoch 4/10\n",
      "131/131 [==============================] - 0s 340us/step - loss: 0.4936 - acc: 0.7252\n",
      "Epoch 5/10\n",
      "131/131 [==============================] - 0s 275us/step - loss: 0.5130 - acc: 0.7176\n",
      "Epoch 6/10\n",
      "131/131 [==============================] - 0s 256us/step - loss: 0.5067 - acc: 0.7328\n",
      "Epoch 7/10\n",
      "131/131 [==============================] - 0s 247us/step - loss: 0.5142 - acc: 0.7176\n",
      "Epoch 8/10\n",
      "131/131 [==============================] - 0s 272us/step - loss: 0.4981 - acc: 0.7481\n",
      "Epoch 9/10\n",
      "131/131 [==============================] - 0s 275us/step - loss: 0.4619 - acc: 0.7939\n",
      "Epoch 10/10\n",
      "131/131 [==============================] - 0s 257us/step - loss: 0.4563 - acc: 0.7634\n"
     ]
    },
    {
     "data": {
      "text/plain": [
       "<keras.callbacks.History at 0x7f27f5cb4c88>"
      ]
     },
     "execution_count": 323,
     "metadata": {},
     "output_type": "execute_result"
    }
   ],
   "source": [
    "# Reproducible results\n",
    "reset_seed()\n",
    "# Use sequence classification (RNN/LSTM)\n",
    "model_rnn = Sequential()\n",
    "model_rnn.add(SimpleRNN(128, input_shape=(18, 7)))\n",
    "model_rnn.add(Dropout(0.5))\n",
    "model_rnn.add(Dense(1, activation='sigmoid'))\n",
    "\n",
    "model_rnn.compile(loss='binary_crossentropy',\n",
    "              optimizer='rmsprop',\n",
    "              metrics=['accuracy'])\n",
    "\n",
    "model_rnn.fit(np.array(x_p_train), np.array(y_p_train), batch_size=35, epochs=10)"
   ]
  },
  {
   "cell_type": "code",
   "execution_count": 324,
   "metadata": {},
   "outputs": [
    {
     "name": "stdout",
     "output_type": "stream",
     "text": [
      "57/57 [==============================] - 0s 5ms/step\n"
     ]
    },
    {
     "data": {
      "text/plain": [
       "[0.5831738752231264, 0.7017544121073004]"
      ]
     },
     "execution_count": 324,
     "metadata": {},
     "output_type": "execute_result"
    }
   ],
   "source": [
    "model_rnn.evaluate(np.array(x_p_test), np.array(y_p_test), batch_size=35)"
   ]
  }
 ],
 "metadata": {
  "kernelspec": {
   "display_name": "Python 3",
   "language": "python",
   "name": "python3"
  },
  "language_info": {
   "codemirror_mode": {
    "name": "ipython",
    "version": 3
   },
   "file_extension": ".py",
   "mimetype": "text/x-python",
   "name": "python",
   "nbconvert_exporter": "python",
   "pygments_lexer": "ipython3",
   "version": "3.5.2"
  }
 },
 "nbformat": 4,
 "nbformat_minor": 2
}
