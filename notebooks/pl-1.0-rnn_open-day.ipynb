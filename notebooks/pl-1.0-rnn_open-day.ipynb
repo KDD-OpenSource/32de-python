{
 "cells": [
  {
   "cell_type": "code",
   "execution_count": 1,
   "metadata": {},
   "outputs": [
    {
     "name": "stderr",
     "output_type": "stream",
     "text": [
      "Using TensorFlow backend.\n"
     ]
    }
   ],
   "source": [
    "from keras.models import Sequential\n",
    "from keras.layers import *\n",
    "from keras.callbacks import EarlyStopping"
   ]
  },
  {
   "cell_type": "code",
   "execution_count": 2,
   "metadata": {},
   "outputs": [],
   "source": [
    "## Help Python find our packages\n",
    "import sys\n",
    "sys.path.append('..')\n",
    "\n",
    "import json\n",
    "import numpy as np\n",
    "import matplotlib.pyplot as plt\n",
    "import domain_scoring.domain_scoring as domain_scoring\n",
    "\n",
    "# Randomness\n",
    "import random as rn\n",
    "import tensorflow as tf\n",
    "import os"
   ]
  },
  {
   "cell_type": "code",
   "execution_count": 3,
   "metadata": {},
   "outputs": [],
   "source": [
    "path = '../rated_datasets/Rotten Tomato_Potato_1519142479.127663.json'"
   ]
  },
  {
   "cell_type": "code",
   "execution_count": 4,
   "metadata": {},
   "outputs": [],
   "source": [
    "merlin = json.load(open(path, \"r\", encoding=\"utf8\"))"
   ]
  },
  {
   "cell_type": "code",
   "execution_count": 5,
   "metadata": {},
   "outputs": [],
   "source": [
    "path = '../rated_datasets/Rotten Tomato_Potato_1519142479.127663.json'"
   ]
  },
  {
   "cell_type": "code",
   "execution_count": 6,
   "metadata": {},
   "outputs": [],
   "source": [
    "potato = json.load(open(path, \"r\", encoding=\"utf8\"))"
   ]
  },
  {
   "cell_type": "code",
   "execution_count": 7,
   "metadata": {},
   "outputs": [
    {
     "data": {
      "text/plain": [
       "['ACTED_IN', 'PRODUCED', 'DIRECTED', 'WROTE', 'Person', 'Movie']"
      ]
     },
     "execution_count": 7,
     "metadata": {},
     "output_type": "execute_result"
    }
   ],
   "source": [
    "type_selection = merlin[\"edge_type_selection\"] + merlin[\"node_type_selection\"]\n",
    "types = []\n",
    "for pair in type_selection:\n",
    "    types.append(pair[0])\n",
    "types"
   ]
  },
  {
   "cell_type": "code",
   "execution_count": 8,
   "metadata": {},
   "outputs": [],
   "source": [
    "def extract_mps(data):\n",
    "    count = 0\n",
    "    first = True\n",
    "    batches = []\n",
    "    batch = []\n",
    "    for probably_path in data[\"meta_paths\"]:\n",
    "        if count % 6 == 0:\n",
    "            # Don't add empty batches\n",
    "            if len(batch) > 0:\n",
    "                batches.append(batch)\n",
    "                batch = []\n",
    "        else:\n",
    "            if 'time_to_rate' not in probably_path.keys():\n",
    "                batch.append(probably_path)\n",
    "        count += 1\n",
    "    # append last batch\n",
    "    if len(batch) > 0:\n",
    "        batches.append(batch)\n",
    "    print('#meta-paths:', count - len(batches) - 1)\n",
    "    return batches"
   ]
  },
  {
   "cell_type": "code",
   "execution_count": 9,
   "metadata": {},
   "outputs": [],
   "source": [
    "def construct_graph(batches):\n",
    "    ## Construct rating graph\n",
    "    from util.datastructures import MetaPathRatingGraph, MetaPath\n",
    "    graph = MetaPathRatingGraph()\n",
    "\n",
    "    for batch in batches:\n",
    "        #ordered = sorted(batch, key=lambda x: float(x['rating']))\n",
    "        for metapath in batch:\n",
    "            for another_metapath in batch:\n",
    "                if metapath is another_metapath:\n",
    "                    continue\n",
    "                if float(metapath['rating']) <= float(another_metapath['rating']):\n",
    "                    graph.add_user_rating(MetaPath.from_list(another_metapath['metapath']), MetaPath.from_list(metapath['metapath']), \n",
    "                                          distance=float(another_metapath['rating']) - float(metapath['rating']))\n",
    "    return graph"
   ]
  },
  {
   "cell_type": "code",
   "execution_count": 10,
   "metadata": {},
   "outputs": [],
   "source": [
    "## Clean up data // remove time_to_rate from array of ratings.\n",
    "def clean_up(data):\n",
    "    batches = extract_mps(data)\n",
    "    return batches, construct_graph(batches)"
   ]
  },
  {
   "cell_type": "code",
   "execution_count": 11,
   "metadata": {},
   "outputs": [
    {
     "name": "stdout",
     "output_type": "stream",
     "text": [
      "#meta-paths: 51\n",
      "#meta-paths: 51\n"
     ]
    }
   ],
   "source": [
    "p_batches, p_graph = clean_up(potato)\n",
    "m_batches, m_graph = clean_up(merlin)"
   ]
  },
  {
   "cell_type": "code",
   "execution_count": 12,
   "metadata": {},
   "outputs": [],
   "source": [
    "from sklearn.feature_extraction.text import TfidfVectorizer\n",
    "from sklearn.model_selection import train_test_split"
   ]
  },
  {
   "cell_type": "code",
   "execution_count": 13,
   "metadata": {},
   "outputs": [],
   "source": [
    "domain_score = domain_scoring.DomainScoring()"
   ]
  },
  {
   "cell_type": "code",
   "execution_count": 14,
   "metadata": {},
   "outputs": [],
   "source": [
    "# Preprocess meta-paths\n",
    "domain_score.vectorizer = TfidfVectorizer(analyzer='word', ngram_range=(1, 2), token_pattern='\\\\b\\\\w+\\\\b')"
   ]
  },
  {
   "cell_type": "code",
   "execution_count": 15,
   "metadata": {},
   "outputs": [],
   "source": [
    "domain_score.fit(m_graph)"
   ]
  },
  {
   "cell_type": "code",
   "execution_count": 16,
   "metadata": {},
   "outputs": [],
   "source": [
    "x, y = domain_score._extract_data_labels(m_graph)\n",
    "x_raw = x\n",
    "x = domain_score._preprocess(x)"
   ]
  },
  {
   "cell_type": "code",
   "execution_count": 17,
   "metadata": {},
   "outputs": [],
   "source": [
    "from sklearn import preprocessing\n",
    "from keras.preprocessing.sequence import pad_sequences"
   ]
  },
  {
   "cell_type": "code",
   "execution_count": 18,
   "metadata": {},
   "outputs": [
    {
     "data": {
      "text/plain": [
       "LabelEncoder()"
      ]
     },
     "execution_count": 18,
     "metadata": {},
     "output_type": "execute_result"
    }
   ],
   "source": [
    "labeler = preprocessing.LabelEncoder()\n",
    "labeler.fit(types)"
   ]
  },
  {
   "cell_type": "code",
   "execution_count": 19,
   "metadata": {},
   "outputs": [],
   "source": [
    "def to_sequence(in_list):\n",
    "    return in_list.reshape((-1, 1))"
   ]
  },
  {
   "cell_type": "code",
   "execution_count": 20,
   "metadata": {},
   "outputs": [],
   "source": [
    "def one_hot(in_sequence, distinct_values):\n",
    "    sequence = np.zeros((len(in_sequence), distinct_values))\n",
    "    i = 0\n",
    "    for point in in_sequence:      \n",
    "        sequence[i][point] = 1\n",
    "        i += 1\n",
    "    return sequence"
   ]
  },
  {
   "cell_type": "code",
   "execution_count": 21,
   "metadata": {},
   "outputs": [],
   "source": [
    "def preprocess_raw(raw, distinct_values, max_len=9):\n",
    "    data = []\n",
    "    for a,b in raw:\n",
    "        # encode labels to integers (0 is reserved for padding)\n",
    "        a = np.array(labeler.transform(a.as_list())) + 1\n",
    "        b = np.array(labeler.transform(b.as_list())) + 1\n",
    "        # pad to same length\n",
    "        a, b = pad_sequences([a, b], max_len, padding='post', value=0)\n",
    "        # merge a and b\n",
    "        sequence = np.append(a, b)\n",
    "        # to sequence\n",
    "        sequence = to_sequence(sequence)\n",
    "        # one-hot encode because we don't have distances/embeddings\n",
    "        sequence = one_hot(sequence, distinct_values + 1)\n",
    "        data.append(sequence)\n",
    "    return data"
   ]
  },
  {
   "cell_type": "code",
   "execution_count": 61,
   "metadata": {},
   "outputs": [],
   "source": [
    "x_preprocess = preprocess_raw(x_raw, len(types))"
   ]
  },
  {
   "cell_type": "code",
   "execution_count": 62,
   "metadata": {},
   "outputs": [],
   "source": [
    "test_size = 0.3\n",
    "random_state = 42"
   ]
  },
  {
   "cell_type": "code",
   "execution_count": 63,
   "metadata": {},
   "outputs": [],
   "source": [
    "x_train, x_test, y_train, y_test = train_test_split(x, y,\n",
    "                                                    test_size=test_size,\n",
    "                                                    random_state=random_state,\n",
    "                                                    shuffle=True)"
   ]
  },
  {
   "cell_type": "code",
   "execution_count": 64,
   "metadata": {},
   "outputs": [
    {
     "data": {
      "text/plain": [
       "131"
      ]
     },
     "execution_count": 64,
     "metadata": {},
     "output_type": "execute_result"
    }
   ],
   "source": [
    "len(x_train)"
   ]
  },
  {
   "cell_type": "code",
   "execution_count": 65,
   "metadata": {},
   "outputs": [
    {
     "data": {
      "text/plain": [
       "(131, 44)"
      ]
     },
     "execution_count": 65,
     "metadata": {},
     "output_type": "execute_result"
    }
   ],
   "source": [
    "np.array(x_train).shape"
   ]
  },
  {
   "cell_type": "code",
   "execution_count": 66,
   "metadata": {},
   "outputs": [],
   "source": [
    "os.environ['PYTHONHASHSEED'] = '0'\n",
    "def reset_seed():\n",
    "    np.random.seed(random_state)\n",
    "    rn.seed(random_state)\n",
    "    tf.set_random_seed(random_state)"
   ]
  },
  {
   "cell_type": "code",
   "execution_count": 82,
   "metadata": {},
   "outputs": [],
   "source": [
    "callbacks = [\n",
    "    EarlyStopping(monitor='loss', patience=2)\n",
    "]"
   ]
  },
  {
   "cell_type": "code",
   "execution_count": 83,
   "metadata": {
    "scrolled": true
   },
   "outputs": [
    {
     "name": "stdout",
     "output_type": "stream",
     "text": [
      "Epoch 1/25\n",
      "131/131 [==============================] - 1s 5ms/step - loss: 0.6881 - acc: 0.5649\n",
      "Epoch 2/25\n",
      "131/131 [==============================] - 0s 71us/step - loss: 0.6791 - acc: 0.5802\n",
      "Epoch 3/25\n",
      "131/131 [==============================] - 0s 99us/step - loss: 0.6766 - acc: 0.6183\n",
      "Epoch 4/25\n",
      "131/131 [==============================] - 0s 162us/step - loss: 0.6733 - acc: 0.5954\n",
      "Epoch 5/25\n",
      "131/131 [==============================] - 0s 146us/step - loss: 0.6723 - acc: 0.6031\n",
      "Epoch 6/25\n",
      "131/131 [==============================] - 0s 136us/step - loss: 0.6678 - acc: 0.6336\n",
      "Epoch 7/25\n",
      "131/131 [==============================] - 0s 80us/step - loss: 0.6653 - acc: 0.6641\n",
      "Epoch 8/25\n",
      "131/131 [==============================] - 0s 154us/step - loss: 0.6637 - acc: 0.6336\n",
      "Epoch 9/25\n",
      "131/131 [==============================] - 0s 154us/step - loss: 0.6607 - acc: 0.6565\n",
      "Epoch 10/25\n",
      "131/131 [==============================] - 0s 84us/step - loss: 0.6601 - acc: 0.6412\n",
      "Epoch 11/25\n",
      "131/131 [==============================] - 0s 170us/step - loss: 0.6575 - acc: 0.6794\n",
      "Epoch 12/25\n",
      "131/131 [==============================] - 0s 162us/step - loss: 0.6561 - acc: 0.6641\n",
      "Epoch 13/25\n",
      "131/131 [==============================] - 0s 186us/step - loss: 0.6552 - acc: 0.6489\n",
      "Epoch 14/25\n",
      "131/131 [==============================] - 0s 224us/step - loss: 0.6523 - acc: 0.6565\n",
      "Epoch 15/25\n",
      "131/131 [==============================] - 0s 354us/step - loss: 0.6504 - acc: 0.6565\n",
      "Epoch 16/25\n",
      "131/131 [==============================] - 0s 340us/step - loss: 0.6488 - acc: 0.6641\n",
      "Epoch 17/25\n",
      "131/131 [==============================] - 0s 97us/step - loss: 0.6474 - acc: 0.6718\n",
      "Epoch 18/25\n",
      "131/131 [==============================] - 0s 221us/step - loss: 0.6458 - acc: 0.6794\n",
      "Epoch 19/25\n",
      "131/131 [==============================] - 0s 283us/step - loss: 0.6438 - acc: 0.6565\n",
      "Epoch 20/25\n",
      "131/131 [==============================] - 0s 85us/step - loss: 0.6432 - acc: 0.6794\n",
      "Epoch 21/25\n",
      "131/131 [==============================] - 0s 123us/step - loss: 0.6411 - acc: 0.6794\n",
      "Epoch 22/25\n",
      "131/131 [==============================] - 0s 224us/step - loss: 0.6389 - acc: 0.6794\n",
      "Epoch 23/25\n",
      "131/131 [==============================] - 0s 247us/step - loss: 0.6391 - acc: 0.6641\n",
      "Epoch 24/25\n",
      "131/131 [==============================] - 0s 283us/step - loss: 0.6355 - acc: 0.6870\n",
      "Epoch 25/25\n",
      "131/131 [==============================] - 0s 173us/step - loss: 0.6356 - acc: 0.6641\n"
     ]
    },
    {
     "data": {
      "text/plain": [
       "<keras.callbacks.History at 0x7ffb39ab7b38>"
      ]
     },
     "execution_count": 83,
     "metadata": {},
     "output_type": "execute_result"
    }
   ],
   "source": [
    "# Reproducible results\n",
    "reset_seed()\n",
    "# Build model\n",
    "model = Sequential()\n",
    "model.add(Dense(44, activation='relu', input_dim=44))\n",
    "model.add(Dense(1, activation='sigmoid'))\n",
    "model.compile(optimizer='rmsprop',\n",
    "              loss='binary_crossentropy',\n",
    "              metrics=['accuracy'])\n",
    "\n",
    "# Train model\n",
    "model.fit(np.array(x_train), np.array(y_train), epochs=25, batch_size=32, callbacks=callbacks)"
   ]
  },
  {
   "cell_type": "code",
   "execution_count": 84,
   "metadata": {},
   "outputs": [
    {
     "name": "stdout",
     "output_type": "stream",
     "text": [
      "57/57 [==============================] - 0s 7ms/step\n"
     ]
    },
    {
     "data": {
      "text/plain": [
       "[0.6689000746660065, 0.6491228101546305]"
      ]
     },
     "execution_count": 84,
     "metadata": {},
     "output_type": "execute_result"
    }
   ],
   "source": [
    "model.evaluate(np.array(x_test), np.array(y_test), batch_size=16)"
   ]
  },
  {
   "cell_type": "code",
   "execution_count": 70,
   "metadata": {},
   "outputs": [],
   "source": [
    "x_p_train, x_p_test, y_p_train, y_p_test = train_test_split(x_preprocess, y,\n",
    "                                                    test_size=test_size,\n",
    "                                                    random_state=random_state,\n",
    "                                                    shuffle=True)"
   ]
  },
  {
   "cell_type": "code",
   "execution_count": 71,
   "metadata": {},
   "outputs": [
    {
     "data": {
      "text/plain": [
       "(131, 18, 7)"
      ]
     },
     "execution_count": 71,
     "metadata": {},
     "output_type": "execute_result"
    }
   ],
   "source": [
    "np.array(x_p_train).shape"
   ]
  },
  {
   "cell_type": "code",
   "execution_count": 72,
   "metadata": {
    "scrolled": true
   },
   "outputs": [
    {
     "name": "stdout",
     "output_type": "stream",
     "text": [
      "Epoch 1/25\n",
      "131/131 [==============================] - 1s 5ms/step - loss: 0.8841 - acc: 0.5115\n",
      "Epoch 2/25\n",
      "131/131 [==============================] - 0s 181us/step - loss: 0.5931 - acc: 0.6641\n",
      "Epoch 3/25\n",
      "131/131 [==============================] - 0s 290us/step - loss: 0.5322 - acc: 0.7023\n",
      "Epoch 4/25\n",
      "131/131 [==============================] - 0s 356us/step - loss: 0.5153 - acc: 0.7328\n",
      "Epoch 5/25\n",
      "131/131 [==============================] - 0s 408us/step - loss: 0.5106 - acc: 0.7252\n",
      "Epoch 6/25\n",
      "131/131 [==============================] - 0s 344us/step - loss: 0.5026 - acc: 0.7481\n",
      "Epoch 7/25\n",
      "131/131 [==============================] - 0s 248us/step - loss: 0.4430 - acc: 0.7710\n",
      "Epoch 8/25\n",
      "131/131 [==============================] - 0s 380us/step - loss: 0.4903 - acc: 0.7786\n",
      "Epoch 9/25\n",
      "131/131 [==============================] - 0s 333us/step - loss: 0.4717 - acc: 0.7710\n",
      "Epoch 10/25\n",
      "131/131 [==============================] - 0s 336us/step - loss: 0.4846 - acc: 0.7481\n",
      "Epoch 11/25\n",
      "131/131 [==============================] - 0s 335us/step - loss: 0.4962 - acc: 0.7557\n",
      "Epoch 12/25\n",
      "131/131 [==============================] - 0s 301us/step - loss: 0.4769 - acc: 0.7481\n",
      "Epoch 13/25\n",
      "131/131 [==============================] - 0s 399us/step - loss: 0.4354 - acc: 0.7939\n",
      "Epoch 14/25\n",
      "131/131 [==============================] - 0s 557us/step - loss: 0.4423 - acc: 0.7863\n",
      "Epoch 15/25\n",
      "131/131 [==============================] - 0s 288us/step - loss: 0.4116 - acc: 0.8244\n",
      "Epoch 16/25\n",
      "131/131 [==============================] - 0s 497us/step - loss: 0.4543 - acc: 0.7634\n",
      "Epoch 17/25\n",
      "131/131 [==============================] - 0s 554us/step - loss: 0.4123 - acc: 0.8015\n",
      "Epoch 18/25\n",
      "131/131 [==============================] - 0s 457us/step - loss: 0.4154 - acc: 0.8015\n",
      "Epoch 19/25\n",
      "131/131 [==============================] - 0s 273us/step - loss: 0.4245 - acc: 0.8015\n",
      "Epoch 20/25\n",
      "131/131 [==============================] - 0s 408us/step - loss: 0.3828 - acc: 0.7786\n",
      "Epoch 21/25\n",
      "131/131 [==============================] - 0s 494us/step - loss: 0.3780 - acc: 0.8702\n",
      "Epoch 22/25\n",
      "131/131 [==============================] - 0s 452us/step - loss: 0.3750 - acc: 0.8321\n",
      "Epoch 23/25\n",
      "131/131 [==============================] - 0s 338us/step - loss: 0.3655 - acc: 0.8321\n",
      "Epoch 24/25\n",
      "131/131 [==============================] - 0s 269us/step - loss: 0.3872 - acc: 0.8244\n",
      "Epoch 25/25\n",
      "131/131 [==============================] - 0s 402us/step - loss: 0.3812 - acc: 0.7939\n"
     ]
    },
    {
     "data": {
      "text/plain": [
       "<keras.callbacks.History at 0x7ffb3a4e0358>"
      ]
     },
     "execution_count": 72,
     "metadata": {},
     "output_type": "execute_result"
    }
   ],
   "source": [
    "# Reproducible results\n",
    "reset_seed()\n",
    "# Use sequence classification (RNN/LSTM)\n",
    "model_rnn = Sequential()\n",
    "model_rnn.add(SimpleRNN(128, input_shape=(18, 7)))\n",
    "model_rnn.add(Dropout(0.5))\n",
    "model_rnn.add(Dense(1, activation='sigmoid'))\n",
    "\n",
    "model_rnn.compile(loss='binary_crossentropy',\n",
    "              optimizer='rmsprop',\n",
    "              metrics=['accuracy'])\n",
    "\n",
    "model_rnn.fit(np.array(x_p_train), np.array(y_p_train), batch_size=35, epochs=25, callbacks=[])"
   ]
  },
  {
   "cell_type": "code",
   "execution_count": 73,
   "metadata": {},
   "outputs": [
    {
     "name": "stdout",
     "output_type": "stream",
     "text": [
      "57/57 [==============================] - 0s 5ms/step\n"
     ]
    },
    {
     "data": {
      "text/plain": [
       "[0.5605788722372892, 0.7719298402468363]"
      ]
     },
     "execution_count": 73,
     "metadata": {},
     "output_type": "execute_result"
    }
   ],
   "source": [
    "model_rnn.evaluate(np.array(x_p_test), np.array(y_p_test), batch_size=35)"
   ]
  },
  {
   "cell_type": "code",
   "execution_count": null,
   "metadata": {},
   "outputs": [],
   "source": []
  }
 ],
 "metadata": {
  "kernelspec": {
   "display_name": "Python 3",
   "language": "python",
   "name": "python3"
  },
  "language_info": {
   "codemirror_mode": {
    "name": "ipython",
    "version": 3
   },
   "file_extension": ".py",
   "mimetype": "text/x-python",
   "name": "python",
   "nbconvert_exporter": "python",
   "pygments_lexer": "ipython3",
   "version": "3.5.2"
  }
 },
 "nbformat": 4,
 "nbformat_minor": 2
}
