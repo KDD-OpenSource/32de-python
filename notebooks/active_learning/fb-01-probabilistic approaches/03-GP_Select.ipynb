{
 "cells": [
  {
   "cell_type": "markdown",
   "metadata": {},
   "source": [
    "## [Experiments] Implementation of GP-Select\n",
    "\n",
    "Implement the optimisation criterion from the Paper \"Selecting valuable items from massive data\" with a custom kernel function."
   ]
  },
  {
   "cell_type": "code",
   "execution_count": 1,
   "metadata": {
    "collapsed": true
   },
   "outputs": [],
   "source": [
    "%matplotlib inline\n",
    "from sklearn.gaussian_process import GaussianProcessRegressor\n",
    "from sklearn.gaussian_process.kernels import (RBF, Matern, RationalQuadratic,\n",
    "                                              ExpSineSquared, DotProduct,\n",
    "                                              ConstantKernel)\n",
    "import math\n",
    "import numpy as np\n",
    "from matplotlib import pyplot as plt"
   ]
  },
  {
   "cell_type": "code",
   "execution_count": 2,
   "metadata": {
    "collapsed": true
   },
   "outputs": [],
   "source": [
    "import sklearn.datasets as data\n",
    "houses = data.load_boston()"
   ]
  },
  {
   "cell_type": "code",
   "execution_count": 16,
   "metadata": {},
   "outputs": [
    {
     "data": {
      "text/plain": [
       "(506, 13)"
      ]
     },
     "execution_count": 16,
     "metadata": {},
     "output_type": "execute_result"
    }
   ],
   "source": [
    "X.shape"
   ]
  },
  {
   "cell_type": "code",
   "execution_count": 11,
   "metadata": {},
   "outputs": [],
   "source": [
    "y = houses['target']\n",
    "X = houses['data']"
   ]
  },
  {
   "cell_type": "code",
   "execution_count": 12,
   "metadata": {
    "collapsed": true
   },
   "outputs": [],
   "source": [
    "kernel = 1.0 * RBF(length_scale=1.0,length_scale_bounds=(1e-1,10.0))\n",
    "gp = GaussianProcessRegressor(kernel=kernel)"
   ]
  },
  {
   "cell_type": "markdown",
   "metadata": {},
   "source": [
    "How does the std change when we use more data for prediction?"
   ]
  },
  {
   "cell_type": "code",
   "execution_count": 32,
   "metadata": {},
   "outputs": [],
   "source": [
    "def fit_and_predict(using_examples):\n",
    "    gp.fit(X[:using_examples], y[:using_examples])\n",
    "    y_mean, y_std = gp.predict(X,return_std=True)\n",
    "    return y_std"
   ]
  },
  {
   "cell_type": "markdown",
   "metadata": {},
   "source": [
    "## Random ordering"
   ]
  },
  {
   "cell_type": "code",
   "execution_count": 42,
   "metadata": {},
   "outputs": [
    {
     "name": "stderr",
     "output_type": "stream",
     "text": [
      "C:\\Users\\Freya\\Anaconda3\\envs\\Basic\\lib\\site-packages\\sklearn\\gaussian_process\\gpr.py:308: UserWarning: Predicted variances smaller than 0. Setting those variances to 0.\n",
      "  warnings.warn(\"Predicted variances smaller than 0. \"\n"
     ]
    }
   ],
   "source": [
    "test_samples = range(1,506)\n",
    "std = [fit_and_predict(i) for i in test_samples]\n",
    "max_std = [item.max() for item in std]\n",
    "mean_std = [item.mean() for item in std]\n",
    "var_std = [item.var() for item in std]"
   ]
  },
  {
   "cell_type": "code",
   "execution_count": 45,
   "metadata": {},
   "outputs": [
    {
     "data": {
      "text/plain": [
       "[<matplotlib.lines.Line2D at 0x49a0ffa710>]"
      ]
     },
     "execution_count": 45,
     "metadata": {},
     "output_type": "execute_result"
    },
    {
     "data": {
      "image/png": "[encoded data removed]",
      "text/plain": [
       "<matplotlib.figure.Figure at 0x49a0c27940>"
      ]
     },
     "metadata": {},
     "output_type": "display_data"
    }
   ],
   "source": [
    "std_y = range(len(test_samples))\n",
    "plt.plot(std_y,max_std,color='b',)\n",
    "plt.plot(std_y,mean_std,color='g')\n",
    "plt.plot(std_y,var_std,color='y')"
   ]
  },
  {
   "cell_type": "markdown",
   "metadata": {},
   "source": [
    "## Uncertainty Sampling, Greedy "
   ]
  },
  {
   "cell_type": "code",
   "execution_count": 47,
   "metadata": {
    "collapsed": true
   },
   "outputs": [],
   "source": [
    "def fit_and_predict_indexed(idx):\n",
    "    gp.fit(X[idx], y[idx])\n",
    "    y_mean, y_std = gp.predict(X,return_std=True)\n",
    "    return y_std"
   ]
  },
  {
   "cell_type": "code",
   "execution_count": 48,
   "metadata": {
    "collapsed": true
   },
   "outputs": [],
   "source": [
    "current_idx = []\n",
    "std_unSamp = []\n",
    "\n",
    "# init model with random data point\n",
    "start = np.random.choice(np.arange(506))\n",
    "current_idx.append(start)\n",
    "current_y_std = fit_and_predict_indexed(idx)\n",
    "std_unSamp.append(current_y_std)\n",
    "\n",
    "for index in range(2,100):\n",
    "    max_std_idx = np.unravel_index(np.argmax(current_y_std, axis=None), y_std.shape)\n",
    "    current_idx.append(max_std_idx)\n",
    "    current_y_std = fit_and_predict_indexed(idx)\n",
    "    std_unSamp.append(current_y_std)"
   ]
  },
  {
   "cell_type": "code",
   "execution_count": 49,
   "metadata": {
    "collapsed": true
   },
   "outputs": [],
   "source": [
    "max_std_unSamp = [item.max() for item in std_unSamp]\n",
    "mean_std_unSamp = [item.mean() for item in std_unSamp]\n",
    "var_std_unSamp = [item.var() for item in std_unSamp]"
   ]
  },
  {
   "cell_type": "code",
   "execution_count": 51,
   "metadata": {},
   "outputs": [
    {
     "data": {
      "text/plain": [
       "[<matplotlib.lines.Line2D at 0x49a10b4be0>]"
      ]
     },
     "execution_count": 51,
     "metadata": {},
     "output_type": "execute_result"
    },
    {
     "data": {
      "image/png": "[encoded data removed]",
      "text/plain": [
       "<matplotlib.figure.Figure at 0x49a1046e10>"
      ]
     },
     "metadata": {},
     "output_type": "display_data"
    }
   ],
   "source": [
    "std_y = range(len(std_unSamp)) \n",
    "plt.plot(std_y,max_std_unSamp,color='b')\n",
    "plt.plot(std_y,mean_std_unSamp,color='g')\n",
    "plt.plot(std_y,var_std_unSamp,color='y')\n",
    "#=> Why do all the std's aquire the same value?\n",
    "#=> If we compare this to the lower dimensional case we might be having the case of the curse of dim\n",
    "#=> We have 15 dimensions and fit at most ~100 items\n",
    "#=> How would this change if we changed the number of features?"
   ]
  },
  {
   "cell_type": "code",
   "execution_count": 56,
   "metadata": {
    "collapsed": true
   },
   "outputs": [],
   "source": [
    "def fit_and_predict_indexed_3features(idx):\n",
    "    gp.fit(X[idx,:3], y[idx])\n",
    "    y_mean, y_std = gp.predict(X[:,:3],return_std=True)\n",
    "    return y_std"
   ]
  },
  {
   "cell_type": "code",
   "execution_count": 57,
   "metadata": {
    "collapsed": true
   },
   "outputs": [],
   "source": [
    "current_idx = []\n",
    "std_unSampSmall = []\n",
    "\n",
    "# init model with random data point\n",
    "start = np.random.choice(np.arange(506))\n",
    "current_idx.append(start)\n",
    "current_y_std = fit_and_predict_indexed(idx)\n",
    "std_unSampSmall.append(current_y_std)\n",
    "\n",
    "for index in range(2,100):\n",
    "    max_std_idx = np.unravel_index(np.argmax(current_y_std, axis=None), y_std.shape)\n",
    "    current_idx.append(max_std_idx)\n",
    "    current_y_std = fit_and_predict_indexed(idx)\n",
    "    std_unSampSmall.append(current_y_std)"
   ]
  },
  {
   "cell_type": "code",
   "execution_count": 58,
   "metadata": {
    "collapsed": true
   },
   "outputs": [],
   "source": [
    "max_std_unSampSmall = [item.max() for item in std_unSampSmall]\n",
    "mean_std_unSampSmall = [item.mean() for item in std_unSampSmall]\n",
    "var_std_unSampSmall = [item.var() for item in std_unSampSmall]"
   ]
  },
  {
   "cell_type": "code",
   "execution_count": 59,
   "metadata": {},
   "outputs": [
    {
     "data": {
      "text/plain": [
       "[<matplotlib.lines.Line2D at 0x49a10ff240>]"
      ]
     },
     "execution_count": 59,
     "metadata": {},
     "output_type": "execute_result"
    },
    {
     "data": {
      "image/png": "[encoded data removed]",
      "text/plain": [
       "<matplotlib.figure.Figure at 0x49a10df8d0>"
      ]
     },
     "metadata": {},
     "output_type": "display_data"
    }
   ],
   "source": [
    "std_y = range(len(std_unSampSmall)) \n",
    "plt.plot(std_y,max_std_unSampSmall,color='b')\n",
    "plt.plot(std_y,mean_std_unSampSmall,color='g')\n",
    "plt.plot(std_y,var_std_unSampSmall,color='y')\n",
    "#=> fewer features do not help!\n",
    "#=> The argmax funtion takes always the first highest element\n",
    "#=> so we are deterministically approximating our function space from the right side\n",
    "#=> This is not a good idea"
   ]
  },
  {
   "cell_type": "markdown",
   "metadata": {},
   "source": [
    "When does a point in a function contain more information than its neighbour?"
   ]
  },
  {
   "cell_type": "markdown",
   "metadata": {},
   "source": [
    "maybe, if it was against several of our last hypothesises? Average the model over time"
   ]
  },
  {
   "cell_type": "markdown",
   "metadata": {},
   "source": [
    "Use the variational prediction at a point"
   ]
  },
  {
   "cell_type": "markdown",
   "metadata": {},
   "source": [
    "The question should specify information about **what**"
   ]
  },
  {
   "cell_type": "markdown",
   "metadata": {},
   "source": [
    "Maybe this is something about how muh local structure corresponds to global structure"
   ]
  },
  {
   "cell_type": "markdown",
   "metadata": {},
   "source": [
    "In active learning we would like to label the points that correspond best to the global structure, because this structure would give us the best *global* estimate"
   ]
  },
  {
   "cell_type": "markdown",
   "metadata": {},
   "source": [
    "Is this just a reformulation of the diversity term?"
   ]
  },
  {
   "cell_type": "code",
   "execution_count": 44,
   "metadata": {},
   "outputs": [
    {
     "ename": "NameError",
     "evalue": "name 'No' is not defined",
     "output_type": "error",
     "traceback": [
      "\u001b[1;31m---------------------------------------------------------------------------\u001b[0m",
      "\u001b[1;31mNameError\u001b[0m                                 Traceback (most recent call last)",
      "\u001b[1;32m<ipython-input-44-e14b420b7266>\u001b[0m in \u001b[0;36m<module>\u001b[1;34m()\u001b[0m\n\u001b[1;32m----> 1\u001b[1;33m \u001b[0mNo\u001b[0m\u001b[1;33m\u001b[0m\u001b[0m\n\u001b[0m",
      "\u001b[1;31mNameError\u001b[0m: name 'No' is not defined"
     ]
    }
   ],
   "source": [
    "No"
   ]
  },
  {
   "cell_type": "markdown",
   "metadata": {},
   "source": [
    "The diversity term says we want to query terms that are very different from each other, but finding global structure implies that we do not "
   ]
  }
 ],
 "metadata": {
  "kernelspec": {
   "display_name": "Python 3",
   "language": "python",
   "name": "python3"
  },
  "language_info": {
   "codemirror_mode": {
    "name": "ipython",
    "version": 3
   },
   "file_extension": ".py",
   "mimetype": "text/x-python",
   "name": "python",
   "nbconvert_exporter": "python",
   "pygments_lexer": "ipython3",
   "version": "3.5.2"
  }
 },
 "nbformat": 4,
 "nbformat_minor": 2
}
