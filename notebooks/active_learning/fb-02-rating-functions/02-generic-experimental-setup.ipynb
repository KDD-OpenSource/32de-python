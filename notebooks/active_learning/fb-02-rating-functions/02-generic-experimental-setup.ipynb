{
 "cells": [
  {
   "cell_type": "markdown",
   "metadata": {},
   "source": [
    "### [Code] Expose the variabilities in the algorithm with an api"
   ]
  },
  {
   "cell_type": "code",
   "execution_count": 1,
   "metadata": {
    "collapsed": true
   },
   "outputs": [],
   "source": [
    "import os, sys\n",
    "os.chdir(os.path.join('..','..','..')) # set working directory to root of github repo"
   ]
  },
  {
   "cell_type": "code",
   "execution_count": 2,
   "metadata": {
    "collapsed": true
   },
   "outputs": [],
   "source": [
    "from active_learning.evaluation import *"
   ]
  },
  {
   "cell_type": "code",
   "execution_count": 3,
   "metadata": {},
   "outputs": [
    {
     "data": {
      "text/plain": [
       "[active_learning.oracles.UserOracle, active_learning.oracles.FunctionalOracle]"
      ]
     },
     "execution_count": 3,
     "metadata": {},
     "output_type": "execute_result"
    }
   ],
   "source": [
    "ORACLES"
   ]
  },
  {
   "cell_type": "code",
   "execution_count": 61,
   "metadata": {
    "collapsed": true
   },
   "outputs": [],
   "source": [
    "def print_options(element,indent=0):\n",
    "    pprint = lambda x: print(\"{}- {}\".format(str( ' ' * indent * 2), x))\n",
    "    items  =element.options().items()\n",
    "    print(element)\n",
    "    for k, v in items:\n",
    "        if type(v) == list:\n",
    "            try:\n",
    "                for i in v:\n",
    "                    print_options(i,indent=indent+1)\n",
    "            except AttributeError:\n",
    "                pprint(\"{}: {}\".format(k,v))\n",
    "        else:\n",
    "            pprint(\"{}: {}\".format(k,v))"
   ]
  },
  {
   "cell_type": "code",
   "execution_count": 62,
   "metadata": {},
   "outputs": [
    {
     "name": "stdout",
     "output_type": "stream",
     "text": [
      "<class 'active_learning.oracles.UserOracle'>\n",
      "- ground_truth_path: ['rated_datasets/Rotten Tomato_Merlin_1519148528.2417703.json', 'rated_datasets/Rotten Tomato_mcfelix_1519142949.904623.json', 'rated_datasets/Rotten Tomato_Constantin Lange_1519139724.4022887.json', 'rated_datasets/Rotten Tomato_Potato_1519142479.127663.json', 'rated_datasets/Rotten Tomato_Juliane_1519146371.039609.json']\n",
      "<class 'active_learning.oracles.FunctionalOracle'>\n",
      "- rating_func: [<function constant at 0x000000B1568302F0>, <function entropy at 0x000000B155F81950>, <function length_based at 0x000000B1559AF6A8>, <function randomly at 0x000000B156824268>]\n"
     ]
    }
   ],
   "source": [
    "for o in ORACLES:\n",
    "    print_options(o)"
   ]
  },
  {
   "cell_type": "code",
   "execution_count": 63,
   "metadata": {},
   "outputs": [
    {
     "name": "stdout",
     "output_type": "stream",
     "text": [
      "<class 'active_learning.active_learner.UncertaintySamplingAlgorithm'>\n",
      "<class 'active_learning.active_learner.GPSelect_Algorithm'>\n",
      "<class 'active_learning.hypothesis.GaussianProcessHypothesis'>\n",
      "  - transformation: ['length', 'tfidf']\n"
     ]
    }
   ],
   "source": [
    "for a in ALGORITHMS:\n",
    "    print_options(a)"
   ]
  },
  {
   "cell_type": "code",
   "execution_count": null,
   "metadata": {
    "collapsed": true
   },
   "outputs": [],
   "source": []
  }
 ],
 "metadata": {
  "kernelspec": {
   "display_name": "Python 3",
   "language": "python",
   "name": "python3"
  },
  "language_info": {
   "codemirror_mode": {
    "name": "ipython",
    "version": 3
   },
   "file_extension": ".py",
   "mimetype": "text/x-python",
   "name": "python",
   "nbconvert_exporter": "python",
   "pygments_lexer": "ipython3",
   "version": "3.5.2"
  }
 },
 "nbformat": 4,
 "nbformat_minor": 2
}
