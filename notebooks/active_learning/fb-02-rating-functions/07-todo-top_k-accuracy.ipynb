{
 "cells": [
  {
   "cell_type": "markdown",
   "metadata": {},
   "source": [
    "### [Experiments] How does the naive approach perform, when we query the top k elements\n",
    "\n",
    "In the GPSelect Algorithm and others we greedily select the best next datapoint to label. In our case we want to do this iteratively on batches of labels.\n",
    "\n",
    "Q: How does the current Algorithms prediction change, when we select the topK uncertain element with different values of k?\n",
    "\n",
    "# TODO"
   ]
  },
  {
   "cell_type": "code",
   "execution_count": null,
   "metadata": {
    "collapsed": true
   },
   "outputs": [],
   "source": []
  }
 ],
 "metadata": {
  "kernelspec": {
   "display_name": "Python 3",
   "language": "python",
   "name": "python3"
  },
  "language_info": {
   "codemirror_mode": {
    "name": "ipython",
    "version": 3
   },
   "file_extension": ".py",
   "mimetype": "text/x-python",
   "name": "python",
   "nbconvert_exporter": "python",
   "pygments_lexer": "ipython3",
   "version": "3.5.2"
  }
 },
 "nbformat": 4,
 "nbformat_minor": 2
}
