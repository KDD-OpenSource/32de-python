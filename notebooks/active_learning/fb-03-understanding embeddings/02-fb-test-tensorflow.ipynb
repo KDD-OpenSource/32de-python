{
 "cells": [
  {
   "cell_type": "code",
   "execution_count": 1,
   "metadata": {},
   "outputs": [
    {
     "name": "stderr",
     "output_type": "stream",
     "text": [
      "C:\\Users\\Freya\\Anaconda3\\envs\\Basic\\lib\\site-packages\\h5py\\__init__.py:36: FutureWarning: Conversion of the second argument of issubdtype from `float` to `np.floating` is deprecated. In future, it will be treated as `np.float64 == np.dtype(float).type`.\n",
      "  from ._conv import register_converters as _register_converters\n"
     ]
    }
   ],
   "source": [
    "import tensorflow as tf\n",
    "import numpy as np"
   ]
  },
  {
   "cell_type": "code",
   "execution_count": 2,
   "metadata": {},
   "outputs": [
    {
     "data": {
      "text/plain": [
       "'C:\\\\Users\\\\Freya\\\\Documents\\\\Studium\\\\BP2017\\\\32de-python\\\\notebooks\\\\active_learning\\\\fb-03-understanding embeddings'"
      ]
     },
     "execution_count": 2,
     "metadata": {},
     "output_type": "execute_result"
    }
   ],
   "source": [
    "import os\n",
    "os.getcwd()"
   ]
  },
  {
   "cell_type": "code",
   "execution_count": 3,
   "metadata": {},
   "outputs": [
    {
     "name": "stdout",
     "output_type": "stream",
     "text": [
      "Tensor(\"input/Mean:0\", shape=(), dtype=float32)\n"
     ]
    }
   ],
   "source": [
    "n=300\n",
    "logs_path='C:\\\\Users\\\\Freya\\\\Documents\\\\Studium\\\\BP2017\\\\32de-python\\\\notebooks\\\\active_learning\\\\logs'\n",
    "\n",
    "with tf.name_scope('input'):\n",
    "    x = tf.placeholder(tf.float32, shape=[n,1], name=\"x\")\n",
    "    sine_mean = tf.reduce_mean(x)\n",
    "    \n",
    "tf.summary.scalar(\"sine\", sine_mean)\n",
    "tf.summary.tensor_summary(\"input\",x)\n",
    "tf.summary.histogram(\"hist\",x)\n",
    "print(sine_mean)\n",
    "# use image for certainty?\n",
    "summary_op = tf.summary.merge_all()\n",
    "\n",
    "\n",
    "with tf.Session() as sess:\n",
    "    # variables need to be initialized before we can use them\n",
    "    sess.run(tf.global_variables_initializer())\n",
    "\n",
    "    # create log writer object\n",
    "    writer = tf.summary.FileWriter(logs_path, graph=tf.get_default_graph())\n",
    "    iterations = 20\n",
    "    for i in range(iterations):\n",
    "        val = np.sin((0.03+i) * np.arange(n)).reshape(-1,1)\n",
    "        summary = sess.run(summary_op, feed_dict={x: val})\n",
    "        writer.add_summary(summary, i)"
   ]
  },
  {
   "cell_type": "code",
   "execution_count": null,
   "metadata": {
    "collapsed": true
   },
   "outputs": [],
   "source": []
  }
 ],
 "metadata": {
  "kernelspec": {
   "display_name": "Python 3",
   "language": "python",
   "name": "python3"
  },
  "language_info": {
   "codemirror_mode": {
    "name": "ipython",
    "version": 3
   },
   "file_extension": ".py",
   "mimetype": "text/x-python",
   "name": "python",
   "nbconvert_exporter": "python",
   "pygments_lexer": "ipython3",
   "version": "3.5.2"
  }
 },
 "nbformat": 4,
 "nbformat_minor": 2
}
