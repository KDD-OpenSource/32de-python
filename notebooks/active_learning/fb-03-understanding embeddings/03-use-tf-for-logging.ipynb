{
 "cells": [
  {
   "cell_type": "code",
   "execution_count": 1,
   "metadata": {
    "collapsed": true
   },
   "outputs": [],
   "source": [
    "import os\n",
    "os.chdir(os.path.join('..','..','..'))"
   ]
  },
  {
   "cell_type": "code",
   "execution_count": 2,
   "metadata": {},
   "outputs": [
    {
     "name": "stderr",
     "output_type": "stream",
     "text": [
      "C:\\Users\\Freya\\Anaconda3\\envs\\Basic\\lib\\site-packages\\h5py\\__init__.py:36: FutureWarning: Conversion of the second argument of issubdtype from `float` to `np.floating` is deprecated. In future, it will be treated as `np.float64 == np.dtype(float).type`.\n",
      "  from ._conv import register_converters as _register_converters\n"
     ]
    },
    {
     "data": {
      "text/plain": [
       "'1.5.1'"
      ]
     },
     "execution_count": 2,
     "metadata": {},
     "output_type": "execute_result"
    }
   ],
   "source": [
    "import tensorflow as tf\n",
    "tf.__version__"
   ]
  },
  {
   "cell_type": "code",
   "execution_count": 3,
   "metadata": {
    "collapsed": true
   },
   "outputs": [],
   "source": [
    "from active_learning.evaluation import Evaluator\n",
    "from active_learning.active_learner import *\n",
    "from active_learning.oracles import *"
   ]
  },
  {
   "cell_type": "code",
   "execution_count": 4,
   "metadata": {
    "scrolled": false
   },
   "outputs": [
    {
     "name": "stdout",
     "output_type": "stream",
     "text": [
      "run metapath-embedding\n",
      "INFO:tensorflow:Using config: {'_log_step_count_steps': 50, '_keep_checkpoint_max': 5, '_save_checkpoints_steps': 1000, '_save_checkpoints_secs': None, '_save_summary_steps': 500, '_task_id': 0, '_keep_checkpoint_every_n_hours': 0.25, '_num_worker_replicas': 1, '_master': '', '_task_type': 'worker', '_model_dir': './12223', '_service': None, '_tf_random_seed': 42, '_session_config': gpu_options {\n",
      "  per_process_gpu_memory_fraction: 0.3\n",
      "}\n",
      ", '_cluster_spec': <tensorflow.python.training.server_lib.ClusterSpec object at 0x000000D3EB5D0C18>, '_num_ps_replicas': 0, '_is_chief': True}\n"
     ]
    },
    {
     "name": "stderr",
     "output_type": "stream",
     "text": [
      "Using config: {'_log_step_count_steps': 50, '_keep_checkpoint_max': 5, '_save_checkpoints_steps': 1000, '_save_checkpoints_secs': None, '_save_summary_steps': 500, '_task_id': 0, '_keep_checkpoint_every_n_hours': 0.25, '_num_worker_replicas': 1, '_master': '', '_task_type': 'worker', '_model_dir': './12223', '_service': None, '_tf_random_seed': 42, '_session_config': gpu_options {\n",
      "  per_process_gpu_memory_fraction: 0.3\n",
      "}\n",
      ", '_cluster_spec': <tensorflow.python.training.server_lib.ClusterSpec object at 0x000000D3EB5D0C18>, '_num_ps_replicas': 0, '_is_chief': True}\n"
     ]
    },
    {
     "name": "stdout",
     "output_type": "stream",
     "text": [
      "[ 0  0  0  1  1  1  2  2  2  3  3  3  4  4  4  5  5  5  6  6  6  7  7  7\n",
      "  8  8  8  9  9  9 10 10 10 11 11 11 12 12 12 13 13 13 14 14 14 15 15 15\n",
      " 16 16 16 17 17 17 18 18 18 19 19 19 20 20 20 21 21 21 22 22 22 23 23 23\n",
      " 24 24 24 25 25 25 26 26 26 27 27 27 28 28 28 29 29 29 30 30 30 31 31 31\n",
      " 32 32 32 33 33 33 34 34 34 35 35 35 36 36 36 37 37 37 38 38 38 39 40 41\n",
      " 42 43 44 45 46 47 48 49 50]\n",
      "[_IndicatorColumn(categorical_column=_HashedCategoricalColumn(key='paragraphs', hash_bucket_size=51, dtype=tf.int32))]\n",
      "<built-in method values of dict object at 0x000000D3ED794908>\n",
      "WARNING:tensorflow:From C:\\Users\\Freya\\Documents\\Studium\\BP2017\\32de-python\\embeddings\\models.py:52: softmax_cross_entropy_with_logits (from tensorflow.python.ops.nn_ops) is deprecated and will be removed in a future version.\n",
      "Instructions for updating:\n",
      "\n",
      "Future major versions of TensorFlow will allow gradients to flow\n",
      "into the labels input on backprop by default.\n",
      "\n",
      "See tf.nn.softmax_cross_entropy_with_logits_v2.\n",
      "\n"
     ]
    },
    {
     "name": "stderr",
     "output_type": "stream",
     "text": [
      "From C:\\Users\\Freya\\Documents\\Studium\\BP2017\\32de-python\\embeddings\\models.py:52: softmax_cross_entropy_with_logits (from tensorflow.python.ops.nn_ops) is deprecated and will be removed in a future version.\n",
      "Instructions for updating:\n",
      "\n",
      "Future major versions of TensorFlow will allow gradients to flow\n",
      "into the labels input on backprop by default.\n",
      "\n",
      "See tf.nn.softmax_cross_entropy_with_logits_v2.\n",
      "\n"
     ]
    },
    {
     "name": "stdout",
     "output_type": "stream",
     "text": [
      "INFO:tensorflow:Create CheckpointSaverHook.\n"
     ]
    },
    {
     "name": "stderr",
     "output_type": "stream",
     "text": [
      "Create CheckpointSaverHook.\n"
     ]
    },
    {
     "name": "stdout",
     "output_type": "stream",
     "text": [
      "INFO:tensorflow:Restoring parameters from ./12223\\model.ckpt-903\n"
     ]
    },
    {
     "name": "stderr",
     "output_type": "stream",
     "text": [
      "Restoring parameters from ./12223\\model.ckpt-903\n"
     ]
    },
    {
     "name": "stdout",
     "output_type": "stream",
     "text": [
      "INFO:tensorflow:Saving checkpoints for 904 into ./12223\\model.ckpt.\n"
     ]
    },
    {
     "name": "stderr",
     "output_type": "stream",
     "text": [
      "Saving checkpoints for 904 into ./12223\\model.ckpt.\n"
     ]
    },
    {
     "name": "stdout",
     "output_type": "stream",
     "text": [
      "INFO:tensorflow:loss = 1.096867, step = 904\n"
     ]
    },
    {
     "name": "stderr",
     "output_type": "stream",
     "text": [
      "loss = 1.096867, step = 904\n"
     ]
    },
    {
     "name": "stdout",
     "output_type": "stream",
     "text": [
      "INFO:tensorflow:global_step/sec: 326.58\n"
     ]
    },
    {
     "name": "stderr",
     "output_type": "stream",
     "text": [
      "global_step/sec: 326.58\n"
     ]
    },
    {
     "name": "stdout",
     "output_type": "stream",
     "text": [
      "INFO:tensorflow:global_step/sec: 335.346\n"
     ]
    },
    {
     "name": "stderr",
     "output_type": "stream",
     "text": [
      "global_step/sec: 335.346\n"
     ]
    },
    {
     "name": "stdout",
     "output_type": "stream",
     "text": [
      "INFO:tensorflow:loss = 1.5673497, step = 1004 (0.306 sec)\n"
     ]
    },
    {
     "name": "stderr",
     "output_type": "stream",
     "text": [
      "loss = 1.5673497, step = 1004 (0.306 sec)\n"
     ]
    },
    {
     "name": "stdout",
     "output_type": "stream",
     "text": [
      "INFO:tensorflow:Saving checkpoints for 1032 into ./12223\\model.ckpt.\n"
     ]
    },
    {
     "name": "stderr",
     "output_type": "stream",
     "text": [
      "Saving checkpoints for 1032 into ./12223\\model.ckpt.\n"
     ]
    },
    {
     "name": "stdout",
     "output_type": "stream",
     "text": [
      "INFO:tensorflow:Loss for final step: 3.9975126.\n"
     ]
    },
    {
     "name": "stderr",
     "output_type": "stream",
     "text": [
      "Loss for final step: 3.9975126.\n"
     ]
    },
    {
     "name": "stdout",
     "output_type": "stream",
     "text": [
      "end metapath-embedding\n",
      "[<util.datastructures.MetaPath object at 0x000000D3EB5D0A90>, <util.datastructures.MetaPath object at 0x000000D3EB5D0B38>, <util.datastructures.MetaPath object at 0x000000D3EB5D0B00>, <util.datastructures.MetaPath object at 0x000000D3EB5D0A20>, <util.datastructures.MetaPath object at 0x000000D3EB5D0B70>, <util.datastructures.MetaPath object at 0x000000D3EB5D0C50>, <util.datastructures.MetaPath object at 0x000000D3EB5D0CC0>, <util.datastructures.MetaPath object at 0x000000D3EB5D0AC8>, <util.datastructures.MetaPath object at 0x000000D3EB5D0C88>, <util.datastructures.MetaPath object at 0x000000D3EB5D0CF8>, <util.datastructures.MetaPath object at 0x000000D3EB5D0DA0>, <util.datastructures.MetaPath object at 0x000000D3EB5D0D30>, <util.datastructures.MetaPath object at 0x000000D3EB5D0D68>, <util.datastructures.MetaPath object at 0x000000D3EB5D0E10>, <util.datastructures.MetaPath object at 0x000000D3EB5D0E48>, <util.datastructures.MetaPath object at 0x000000D3EB5D0DD8>, <util.datastructures.MetaPath object at 0x000000D3EB5D0EF0>, <util.datastructures.MetaPath object at 0x000000D3EB5D0F28>, <util.datastructures.MetaPath object at 0x000000D3EB5D0EB8>, <util.datastructures.MetaPath object at 0x000000D3EB5D0F60>, <util.datastructures.MetaPath object at 0x000000D3EB5D0FD0>, <util.datastructures.MetaPath object at 0x000000D3EB5D0E80>, <util.datastructures.MetaPath object at 0x000000D3EB5D0F98>, <util.datastructures.MetaPath object at 0x000000D3EC783080>, <util.datastructures.MetaPath object at 0x000000D3EC783048>, <util.datastructures.MetaPath object at 0x000000D3EC783128>, <util.datastructures.MetaPath object at 0x000000D3EC783160>, <util.datastructures.MetaPath object at 0x000000D3EC7830F0>, <util.datastructures.MetaPath object at 0x000000D3EC783198>, <util.datastructures.MetaPath object at 0x000000D3EC7831D0>, <util.datastructures.MetaPath object at 0x000000D3EC7830B8>, <util.datastructures.MetaPath object at 0x000000D3EC783240>, <util.datastructures.MetaPath object at 0x000000D3EC783278>, <util.datastructures.MetaPath object at 0x000000D3EC7832B0>, <util.datastructures.MetaPath object at 0x000000D3EC7832E8>, <util.datastructures.MetaPath object at 0x000000D3EC783320>, <util.datastructures.MetaPath object at 0x000000D3EC783358>, <util.datastructures.MetaPath object at 0x000000D3EC783390>, <util.datastructures.MetaPath object at 0x000000D3EC7833C8>, <util.datastructures.MetaPath object at 0x000000D3EC783400>, <util.datastructures.MetaPath object at 0x000000D3EC783438>, <util.datastructures.MetaPath object at 0x000000D3EC783208>, <util.datastructures.MetaPath object at 0x000000D3EC783470>, <util.datastructures.MetaPath object at 0x000000D3EC7834E0>, <util.datastructures.MetaPath object at 0x000000D3EC783518>, <util.datastructures.MetaPath object at 0x000000D3EC783550>, <util.datastructures.MetaPath object at 0x000000D3EC783588>, <util.datastructures.MetaPath object at 0x000000D3EC7835C0>, <util.datastructures.MetaPath object at 0x000000D3EC7835F8>, <util.datastructures.MetaPath object at 0x000000D3EC783630>, <util.datastructures.MetaPath object at 0x000000D3EC783668>]\n"
     ]
    },
    {
     "name": "stderr",
     "output_type": "stream",
     "text": [
      "C:\\Users\\Freya\\Anaconda3\\envs\\Basic\\lib\\site-packages\\sklearn\\gaussian_process\\gpr.py:308: UserWarning: Predicted variances smaller than 0. Setting those variances to 0.\n",
      "  warnings.warn(\"Predicted variances smaller than 0. \"\n"
     ]
    }
   ],
   "source": [
    "algorithm = UncertaintySamplingAlgorithm\n",
    "algo_params_length = {'hypothesis': 'Gaussian Process', 'hypothesis_params':{'transformation':'length'}}\n",
    "algo_params_tfidf = {'hypothesis': 'Gaussian Process', 'hypothesis_params':{'transformation':'tfidf'}}\n",
    "\n",
    "logs_path='/home/freya/BP/32de-python/notebooks/active_learning/logs/testrun/f'\n",
    "\n",
    "def rating_func_constant(c):\n",
    "    return lambda x: c\n",
    "\n",
    "rating_func = rating_func_constant(1)\n",
    "oracle = FunctionalOracle(**{'rating_func':rating_func})\n",
    "res = Evaluator(algorithm=algorithm, algo_params=algo_params_tfidf,\n",
    "                     oracle=oracle,\n",
    "                     batch_size=1, dataset_name='Rotten Tomato', logs_path=logs_path).compute()"
   ]
  },
  {
   "cell_type": "code",
   "execution_count": 5,
   "metadata": {
    "collapsed": true
   },
   "outputs": [],
   "source": [
    "import util.tensor_logging as tl"
   ]
  },
  {
   "cell_type": "code",
   "execution_count": 6,
   "metadata": {},
   "outputs": [
    {
     "data": {
      "text/plain": [
       "'log\\\\tensorboard\\\\evaluator1525264589'"
      ]
     },
     "execution_count": 6,
     "metadata": {},
     "output_type": "execute_result"
    }
   ],
   "source": [
    "tl.get_logger('evaluator')._logs_path"
   ]
  },
  {
   "cell_type": "code",
   "execution_count": null,
   "metadata": {
    "collapsed": true
   },
   "outputs": [],
   "source": []
  }
 ],
 "metadata": {
  "kernelspec": {
   "display_name": "Python 3",
   "language": "python",
   "name": "python3"
  },
  "language_info": {
   "codemirror_mode": {
    "name": "ipython",
    "version": 3
   },
   "file_extension": ".py",
   "mimetype": "text/x-python",
   "name": "python",
   "nbconvert_exporter": "python",
   "pygments_lexer": "ipython3",
   "version": "3.5.2"
  }
 },
 "nbformat": 4,
 "nbformat_minor": 2
}
