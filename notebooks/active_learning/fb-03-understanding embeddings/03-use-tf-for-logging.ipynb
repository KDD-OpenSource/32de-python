{
 "cells": [
  {
   "cell_type": "code",
   "execution_count": 1,
   "metadata": {
    "collapsed": true
   },
   "outputs": [],
   "source": [
    "import os\n",
    "os.chdir(os.path.join('..','..','..'))"
   ]
  },
  {
   "cell_type": "code",
   "execution_count": 2,
   "metadata": {},
   "outputs": [
    {
     "name": "stderr",
     "output_type": "stream",
     "text": [
      "/Users/Sebastian/anaconda3/lib/python3.6/site-packages/h5py/__init__.py:34: FutureWarning: Conversion of the second argument of issubdtype from `float` to `np.floating` is deprecated. In future, it will be treated as `np.float64 == np.dtype(float).type`.\n",
      "  from ._conv import register_converters as _register_converters\n"
     ]
    }
   ],
   "source": [
    "from active_learning.evaluation import Evaluator\n",
    "from active_learning.active_learner import *\n",
    "from active_learning.oracles import *"
   ]
  },
  {
   "cell_type": "code",
   "execution_count": 3,
   "metadata": {
    "scrolled": false
   },
   "outputs": [
    {
     "name": "stdout",
     "output_type": "stream",
     "text": [
      "run metapath-embedding\n",
      "INFO:tensorflow:Using config: {'_model_dir': './model_dir', '_tf_random_seed': 42, '_save_summary_steps': 500, '_save_checkpoints_steps': 1000, '_save_checkpoints_secs': None, '_session_config': gpu_options {\n",
      "  per_process_gpu_memory_fraction: 0.3\n",
      "}\n",
      ", '_keep_checkpoint_max': 5, '_keep_checkpoint_every_n_hours': 0.25, '_log_step_count_steps': 50, '_service': None, '_cluster_spec': <tensorflow.python.training.server_lib.ClusterSpec object at 0x11ca38278>, '_task_type': 'worker', '_task_id': 0, '_global_id_in_cluster': 0, '_master': '', '_evaluation_master': '', '_is_chief': True, '_num_ps_replicas': 0, '_num_worker_replicas': 1}\n"
     ]
    },
    {
     "name": "stderr",
     "output_type": "stream",
     "text": [
      "Using config: {'_model_dir': './model_dir', '_tf_random_seed': 42, '_save_summary_steps': 500, '_save_checkpoints_steps': 1000, '_save_checkpoints_secs': None, '_session_config': gpu_options {\n",
      "  per_process_gpu_memory_fraction: 0.3\n",
      "}\n",
      ", '_keep_checkpoint_max': 5, '_keep_checkpoint_every_n_hours': 0.25, '_log_step_count_steps': 50, '_service': None, '_cluster_spec': <tensorflow.python.training.server_lib.ClusterSpec object at 0x11ca38278>, '_task_type': 'worker', '_task_id': 0, '_global_id_in_cluster': 0, '_master': '', '_evaluation_master': '', '_is_chief': True, '_num_ps_replicas': 0, '_num_worker_replicas': 1}\n"
     ]
    },
    {
     "name": "stdout",
     "output_type": "stream",
     "text": [
      "[ 0  0  0  1  1  1  2  2  2  3  3  3  4  4  4  5  5  5  6  6  6  7  7  7\n",
      "  8  8  8  9  9  9 10 10 10 11 11 11 12 12 12 13 13 13 14 14 14 15 15 15\n",
      " 16 16 16 17 17 17 18 18 18 19 19 19 20 20 20 21 21 21 22 22 22 23 23 23\n",
      " 24 24 24 25 25 25 26 26 26 27 27 27 28 28 28 29 29 29 30 30 30 31 31 31\n",
      " 32 32 32 33 33 33 34 34 34 35 35 35 36 36 36 37 37 37 38 38 38 39 40 41\n",
      " 42 43 44 45 46 47 48 49 50]\n",
      "INFO:tensorflow:Calling model_fn.\n"
     ]
    },
    {
     "name": "stderr",
     "output_type": "stream",
     "text": [
      "Calling model_fn.\n"
     ]
    },
    {
     "name": "stdout",
     "output_type": "stream",
     "text": [
      "[_IndicatorColumn(categorical_column=_HashedCategoricalColumn(key='paragraphs', hash_bucket_size=51, dtype=tf.int32))]\n",
      "<built-in method values of dict object at 0x11cb55510>\n",
      "WARNING:tensorflow:From /Users/Sebastian/hpi/bachelorproject/32de-python/embeddings/models.py:52: softmax_cross_entropy_with_logits (from tensorflow.python.ops.nn_ops) is deprecated and will be removed in a future version.\n",
      "Instructions for updating:\n",
      "\n",
      "Future major versions of TensorFlow will allow gradients to flow\n",
      "into the labels input on backprop by default.\n",
      "\n",
      "See tf.nn.softmax_cross_entropy_with_logits_v2.\n",
      "\n"
     ]
    },
    {
     "name": "stderr",
     "output_type": "stream",
     "text": [
      "From /Users/Sebastian/hpi/bachelorproject/32de-python/embeddings/models.py:52: softmax_cross_entropy_with_logits (from tensorflow.python.ops.nn_ops) is deprecated and will be removed in a future version.\n",
      "Instructions for updating:\n",
      "\n",
      "Future major versions of TensorFlow will allow gradients to flow\n",
      "into the labels input on backprop by default.\n",
      "\n",
      "See tf.nn.softmax_cross_entropy_with_logits_v2.\n",
      "\n"
     ]
    },
    {
     "name": "stdout",
     "output_type": "stream",
     "text": [
      "INFO:tensorflow:Done calling model_fn.\n"
     ]
    },
    {
     "name": "stderr",
     "output_type": "stream",
     "text": [
      "Done calling model_fn.\n"
     ]
    },
    {
     "name": "stdout",
     "output_type": "stream",
     "text": [
      "INFO:tensorflow:Create CheckpointSaverHook.\n"
     ]
    },
    {
     "name": "stderr",
     "output_type": "stream",
     "text": [
      "Create CheckpointSaverHook.\n"
     ]
    },
    {
     "name": "stdout",
     "output_type": "stream",
     "text": [
      "INFO:tensorflow:Graph was finalized.\n"
     ]
    },
    {
     "name": "stderr",
     "output_type": "stream",
     "text": [
      "Graph was finalized.\n"
     ]
    },
    {
     "name": "stdout",
     "output_type": "stream",
     "text": [
      "INFO:tensorflow:Restoring parameters from ./model_dir/model.ckpt-903\n"
     ]
    },
    {
     "name": "stderr",
     "output_type": "stream",
     "text": [
      "Restoring parameters from ./model_dir/model.ckpt-903\n"
     ]
    },
    {
     "name": "stdout",
     "output_type": "stream",
     "text": [
      "INFO:tensorflow:Running local_init_op.\n"
     ]
    },
    {
     "name": "stderr",
     "output_type": "stream",
     "text": [
      "Running local_init_op.\n"
     ]
    },
    {
     "name": "stdout",
     "output_type": "stream",
     "text": [
      "INFO:tensorflow:Done running local_init_op.\n"
     ]
    },
    {
     "name": "stderr",
     "output_type": "stream",
     "text": [
      "Done running local_init_op.\n"
     ]
    },
    {
     "name": "stdout",
     "output_type": "stream",
     "text": [
      "INFO:tensorflow:Saving checkpoints for 904 into ./model_dir/model.ckpt.\n"
     ]
    },
    {
     "name": "stderr",
     "output_type": "stream",
     "text": [
      "Saving checkpoints for 904 into ./model_dir/model.ckpt.\n"
     ]
    },
    {
     "name": "stdout",
     "output_type": "stream",
     "text": [
      "INFO:tensorflow:loss = 2.3592024, step = 904\n"
     ]
    },
    {
     "name": "stderr",
     "output_type": "stream",
     "text": [
      "loss = 2.3592024, step = 904\n"
     ]
    },
    {
     "name": "stdout",
     "output_type": "stream",
     "text": [
      "INFO:tensorflow:global_step/sec: 259.469\n"
     ]
    },
    {
     "name": "stderr",
     "output_type": "stream",
     "text": [
      "global_step/sec: 259.469\n"
     ]
    },
    {
     "name": "stdout",
     "output_type": "stream",
     "text": [
      "INFO:tensorflow:global_step/sec: 247.155\n"
     ]
    },
    {
     "name": "stderr",
     "output_type": "stream",
     "text": [
      "global_step/sec: 247.155\n"
     ]
    },
    {
     "name": "stdout",
     "output_type": "stream",
     "text": [
      "INFO:tensorflow:loss = 1.974483, step = 1004 (0.398 sec)\n"
     ]
    },
    {
     "name": "stderr",
     "output_type": "stream",
     "text": [
      "loss = 1.974483, step = 1004 (0.398 sec)\n"
     ]
    },
    {
     "name": "stdout",
     "output_type": "stream",
     "text": [
      "INFO:tensorflow:Saving checkpoints for 1032 into ./model_dir/model.ckpt.\n"
     ]
    },
    {
     "name": "stderr",
     "output_type": "stream",
     "text": [
      "Saving checkpoints for 1032 into ./model_dir/model.ckpt.\n"
     ]
    },
    {
     "name": "stdout",
     "output_type": "stream",
     "text": [
      "INFO:tensorflow:Loss for final step: 2.2065887.\n"
     ]
    },
    {
     "name": "stderr",
     "output_type": "stream",
     "text": [
      "Loss for final step: 2.2065887.\n"
     ]
    },
    {
     "name": "stdout",
     "output_type": "stream",
     "text": [
      "end metapath-embedding\n",
      "[<util.datastructures.MetaPath object at 0x11c9f5780>, <util.datastructures.MetaPath object at 0x11c9d9978>, <util.datastructures.MetaPath object at 0x11c9f56a0>, <util.datastructures.MetaPath object at 0x11c9f5630>, <util.datastructures.MetaPath object at 0x11c9f56d8>, <util.datastructures.MetaPath object at 0x11c9f5710>, <util.datastructures.MetaPath object at 0x11c9f5828>, <util.datastructures.MetaPath object at 0x11c9f57f0>, <util.datastructures.MetaPath object at 0x11c9f5860>, <util.datastructures.MetaPath object at 0x11c9f5898>, <util.datastructures.MetaPath object at 0x11c9f58d0>, <util.datastructures.MetaPath object at 0x11c9f5908>, <util.datastructures.MetaPath object at 0x11c9f5940>, <util.datastructures.MetaPath object at 0x11c9f5978>, <util.datastructures.MetaPath object at 0x11c9f59b0>, <util.datastructures.MetaPath object at 0x11c9f59e8>, <util.datastructures.MetaPath object at 0x11c9f5a20>, <util.datastructures.MetaPath object at 0x11c9f5a58>, <util.datastructures.MetaPath object at 0x11c9f5a90>, <util.datastructures.MetaPath object at 0x11c9f5ac8>, <util.datastructures.MetaPath object at 0x11c9f5b00>, <util.datastructures.MetaPath object at 0x11c9f5b38>, <util.datastructures.MetaPath object at 0x11c9f5b70>, <util.datastructures.MetaPath object at 0x11c9f5ba8>, <util.datastructures.MetaPath object at 0x11c9f5be0>, <util.datastructures.MetaPath object at 0x11c9f5c18>, <util.datastructures.MetaPath object at 0x11c9f5c50>, <util.datastructures.MetaPath object at 0x11c9f5c88>, <util.datastructures.MetaPath object at 0x11c9f5cc0>, <util.datastructures.MetaPath object at 0x11c9f5cf8>, <util.datastructures.MetaPath object at 0x11c9f5d30>, <util.datastructures.MetaPath object at 0x11c9f5d68>, <util.datastructures.MetaPath object at 0x11c9f5da0>, <util.datastructures.MetaPath object at 0x11c9f5dd8>, <util.datastructures.MetaPath object at 0x11c9f5e10>, <util.datastructures.MetaPath object at 0x11c9f5e48>, <util.datastructures.MetaPath object at 0x11c9f5e80>, <util.datastructures.MetaPath object at 0x11c9f5eb8>, <util.datastructures.MetaPath object at 0x11c9f5ef0>, <util.datastructures.MetaPath object at 0x11c9f5f28>, <util.datastructures.MetaPath object at 0x11c9f5f60>, <util.datastructures.MetaPath object at 0x11c9f5f98>, <util.datastructures.MetaPath object at 0x11c9f5fd0>, <util.datastructures.MetaPath object at 0x11ca38048>, <util.datastructures.MetaPath object at 0x11ca38080>, <util.datastructures.MetaPath object at 0x11ca380b8>, <util.datastructures.MetaPath object at 0x11ca38128>, <util.datastructures.MetaPath object at 0x11ca38160>, <util.datastructures.MetaPath object at 0x11ca38198>, <util.datastructures.MetaPath object at 0x11ca381d0>, <util.datastructures.MetaPath object at 0x11ca38208>]\n",
      "PairwiseKernel(gamma=<function cosine_similarity at 0x10ce32c80>, metric=linear)\n"
     ]
    },
    {
     "ename": "AttributeError",
     "evalue": "'numpy.ndarray' object has no attribute 'get_representation'",
     "output_type": "error",
     "traceback": [
      "\u001b[0;31m---------------------------------------------------------------------------\u001b[0m",
      "\u001b[0;31mAttributeError\u001b[0m                            Traceback (most recent call last)",
      "\u001b[0;32m<ipython-input-3-e26f321c6174>\u001b[0m in \u001b[0;36m<module>\u001b[0;34m()\u001b[0m\n\u001b[1;32m     12\u001b[0m res = Evaluator(algorithm=algorithm, algo_params=algo_params_tfidf,\n\u001b[1;32m     13\u001b[0m                      \u001b[0moracle\u001b[0m\u001b[0;34m=\u001b[0m\u001b[0moracle\u001b[0m\u001b[0;34m,\u001b[0m\u001b[0;34m\u001b[0m\u001b[0m\n\u001b[0;32m---> 14\u001b[0;31m                      batch_size=1, dataset_name='Rotten Tomato', logs_path=logs_path).compute()\n\u001b[0m",
      "\u001b[0;32m/Users/Sebastian/hpi/bachelorproject/32de-python/active_learning/evaluation.py\u001b[0m in \u001b[0;36mcompute\u001b[0;34m(self)\u001b[0m\n\u001b[1;32m     62\u001b[0m         \u001b[0;32mwhile\u001b[0m \u001b[0mself\u001b[0m\u001b[0;34m.\u001b[0m\u001b[0moracle\u001b[0m\u001b[0;34m.\u001b[0m\u001b[0m_wants_to_continue\u001b[0m\u001b[0;34m(\u001b[0m\u001b[0;34m)\u001b[0m \u001b[0;32mis\u001b[0m \u001b[0;32mTrue\u001b[0m \u001b[0;32mand\u001b[0m \u001b[0;32mnot\u001b[0m \u001b[0mis_last_batch\u001b[0m\u001b[0;34m:\u001b[0m\u001b[0;34m\u001b[0m\u001b[0m\n\u001b[1;32m     63\u001b[0m             \u001b[0;31m# Retrieve next batch\u001b[0m\u001b[0;34m\u001b[0m\u001b[0;34m\u001b[0m\u001b[0m\n\u001b[0;32m---> 64\u001b[0;31m             \u001b[0mnext_metapaths\u001b[0m\u001b[0;34m,\u001b[0m \u001b[0mis_last_batch\u001b[0m\u001b[0;34m,\u001b[0m \u001b[0mref_paths\u001b[0m \u001b[0;34m=\u001b[0m \u001b[0mself\u001b[0m\u001b[0;34m.\u001b[0m\u001b[0malgorithm\u001b[0m\u001b[0;34m.\u001b[0m\u001b[0mget_next\u001b[0m\u001b[0;34m(\u001b[0m\u001b[0mbatch_size\u001b[0m\u001b[0;34m=\u001b[0m\u001b[0mself\u001b[0m\u001b[0;34m.\u001b[0m\u001b[0mbatch_size\u001b[0m\u001b[0;34m)\u001b[0m\u001b[0;34m\u001b[0m\u001b[0m\n\u001b[0m\u001b[1;32m     65\u001b[0m             \u001b[0mids_to_be_rated\u001b[0m \u001b[0;34m=\u001b[0m \u001b[0;34m[\u001b[0m\u001b[0mmp\u001b[0m\u001b[0;34m[\u001b[0m\u001b[0;34m'id'\u001b[0m\u001b[0;34m]\u001b[0m \u001b[0;32mfor\u001b[0m \u001b[0mmp\u001b[0m \u001b[0;32min\u001b[0m \u001b[0mnext_metapaths\u001b[0m\u001b[0;34m]\u001b[0m\u001b[0;34m\u001b[0m\u001b[0m\n\u001b[1;32m     66\u001b[0m             \u001b[0mlogger\u001b[0m\u001b[0;34m.\u001b[0m\u001b[0minfo\u001b[0m\u001b[0;34m(\u001b[0m\u001b[0;34m\"\\tRating paths:\\t{}\"\u001b[0m\u001b[0;34m.\u001b[0m\u001b[0mformat\u001b[0m\u001b[0;34m(\u001b[0m\u001b[0mids_to_be_rated\u001b[0m\u001b[0;34m)\u001b[0m\u001b[0;34m)\u001b[0m\u001b[0;34m\u001b[0m\u001b[0m\n",
      "\u001b[0;32m/Users/Sebastian/hpi/bachelorproject/32de-python/active_learning/active_learner.py\u001b[0m in \u001b[0;36mget_next\u001b[0;34m(self, batch_size)\u001b[0m\n\u001b[1;32m     97\u001b[0m                 \u001b[0;34m'metapath'\u001b[0m\u001b[0;34m:\u001b[0m \u001b[0mmeta_path\u001b[0m\u001b[0;34m.\u001b[0m\u001b[0mget_representation\u001b[0m\u001b[0;34m(\u001b[0m\u001b[0;34m'UI'\u001b[0m\u001b[0;34m)\u001b[0m\u001b[0;34m,\u001b[0m\u001b[0;34m\u001b[0m\u001b[0m\n\u001b[1;32m     98\u001b[0m                 'rating': self.STANDARD_RATING} for meta_id, meta_path in\n\u001b[0;32m---> 99\u001b[0;31m                zip(ids, self.meta_paths[ids])]\n\u001b[0m\u001b[1;32m    100\u001b[0m \u001b[0;34m\u001b[0m\u001b[0m\n\u001b[1;32m    101\u001b[0m         reference_paths = {'max_path': self.get_max_ref_path(),\n",
      "\u001b[0;32m/Users/Sebastian/hpi/bachelorproject/32de-python/active_learning/active_learner.py\u001b[0m in \u001b[0;36m<listcomp>\u001b[0;34m(.0)\u001b[0m\n\u001b[1;32m     96\u001b[0m         mps = [{'id': int(meta_id),\n\u001b[1;32m     97\u001b[0m                 \u001b[0;34m'metapath'\u001b[0m\u001b[0;34m:\u001b[0m \u001b[0mmeta_path\u001b[0m\u001b[0;34m.\u001b[0m\u001b[0mget_representation\u001b[0m\u001b[0;34m(\u001b[0m\u001b[0;34m'UI'\u001b[0m\u001b[0;34m)\u001b[0m\u001b[0;34m,\u001b[0m\u001b[0;34m\u001b[0m\u001b[0m\n\u001b[0;32m---> 98\u001b[0;31m                 'rating': self.STANDARD_RATING} for meta_id, meta_path in\n\u001b[0m\u001b[1;32m     99\u001b[0m                zip(ids, self.meta_paths[ids])]\n\u001b[1;32m    100\u001b[0m \u001b[0;34m\u001b[0m\u001b[0m\n",
      "\u001b[0;31mAttributeError\u001b[0m: 'numpy.ndarray' object has no attribute 'get_representation'"
     ]
    }
   ],
   "source": [
    "algorithm = UncertaintySamplingAlgorithm\n",
    "algo_params_length = {'hypothesis': 'Gaussian Process', 'hypothesis_params':{'transformation':'length'}}\n",
    "algo_params_tfidf = {'hypothesis': 'Gaussian Process', 'hypothesis_params':{'transformation':'tfidf'}}\n",
    "\n",
    "logs_path='/home/freya/BP/32de-python/notebooks/active_learning/logs/testrun/f'\n",
    "\n",
    "def rating_func_constant(c):\n",
    "    return lambda x: c\n",
    "\n",
    "rating_func = rating_func_constant(1)\n",
    "oracle = FunctionalOracle(**{'rating_func':rating_func})\n",
    "res = Evaluator(algorithm=algorithm, algo_params=algo_params_tfidf,\n",
    "                     oracle=oracle,\n",
    "                     batch_size=1, dataset_name='Rotten Tomato', logs_path=logs_path).compute()"
   ]
  },
  {
   "cell_type": "code",
   "execution_count": null,
   "metadata": {
    "collapsed": true
   },
   "outputs": [],
   "source": [
    "import util.tensor_logging as tl"
   ]
  },
  {
   "cell_type": "code",
   "execution_count": null,
   "metadata": {
    "collapsed": true
   },
   "outputs": [],
   "source": [
    "l = tl.get_logger('evaluator')"
   ]
  },
  {
   "cell_type": "code",
   "execution_count": null,
   "metadata": {
    "collapsed": true
   },
   "outputs": [],
   "source": [
    "l.write_summary()"
   ]
  },
  {
   "cell_type": "code",
   "execution_count": null,
   "metadata": {
    "collapsed": true
   },
   "outputs": [],
   "source": [
    "l.close()"
   ]
  },
  {
   "cell_type": "code",
   "execution_count": null,
   "metadata": {
    "collapsed": true
   },
   "outputs": [],
   "source": []
  }
 ],
 "metadata": {
  "kernelspec": {
   "display_name": "Python 3",
   "language": "python",
   "name": "python3"
  },
  "language_info": {
   "codemirror_mode": {
    "name": "ipython",
    "version": 3
   },
   "file_extension": ".py",
   "mimetype": "text/x-python",
   "name": "python",
   "nbconvert_exporter": "python",
   "pygments_lexer": "ipython3",
   "version": "3.6.1"
  }
 },
 "nbformat": 4,
 "nbformat_minor": 2
}
