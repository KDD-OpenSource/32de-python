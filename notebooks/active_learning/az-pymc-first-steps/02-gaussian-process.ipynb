{
 "cells": [
  {
   "cell_type": "code",
   "execution_count": 2,
   "metadata": {},
   "outputs": [
    {
     "name": "stdout",
     "output_type": "stream",
     "text": [
      "Running on PyMC3 v3.3\n"
     ]
    },
    {
     "name": "stderr",
     "output_type": "stream",
     "text": [
      "/home/bpgraphexploration/anaconda3/envs/bpal/lib/python3.6/site-packages/h5py/__init__.py:36: FutureWarning: Conversion of the second argument of issubdtype from `float` to `np.floating` is deprecated. In future, it will be treated as `np.float64 == np.dtype(float).type`.\n",
      "  from ._conv import register_converters as _register_converters\n"
     ]
    }
   ],
   "source": [
    "%matplotlib inline\n",
    "import numpy as np\n",
    "import matplotlib.pyplot as plt\n",
    "import pymc3 as pm\n",
    "print('Running on PyMC3 v{}'.format(pm.__version__))\n",
    "plt.style.use('seaborn-darkgrid')\n",
    "\n",
    "np.random.seed(123)\n",
    "\n",
    "# These parameteres will be unkwown to our model.\n",
    "alpha, sigma  = 1, 1\n",
    "beta = [1, 2.5]\n",
    "\n",
    "size = 100\n",
    "\n",
    "X1 = np.random.randn(size)\n",
    "\n",
    "X2 = np.random.randn(size) * 0.2\n",
    "\n",
    "Y = alpha + beta[0] * X1 + beta[1] * X2 + np.random.randn(size) * sigma"
   ]
  },
  {
   "cell_type": "code",
   "execution_count": 3,
   "metadata": {},
   "outputs": [],
   "source": [
    "kdd_raters = ['rated_datasets/Rotten Tomato_Merlin_1519148528.2417703.json',\n",
    "             'rated_datasets/Rotten Tomato_mcfelix_1519142949.904623.json',\n",
    "             'rated_datasets/Rotten Tomato_Constantin Lange_1519139724.4022887.json',\n",
    "             'rated_datasets/Rotten Tomato_Potato_1519142479.127663.json',\n",
    "             'rated_datasets/Rotten Tomato_Juliane_1519146371.039609.json']"
   ]
  },
  {
   "cell_type": "code",
   "execution_count": null,
   "metadata": {},
   "outputs": [],
   "source": []
  }
 ],
 "metadata": {
  "kernelspec": {
   "display_name": "Python 3",
   "language": "python",
   "name": "python3"
  },
  "language_info": {
   "codemirror_mode": {
    "name": "ipython",
    "version": 3
   },
   "file_extension": ".py",
   "mimetype": "text/x-python",
   "name": "python",
   "nbconvert_exporter": "python",
   "pygments_lexer": "ipython3",
   "version": "3.6.4"
  }
 },
 "nbformat": 4,
 "nbformat_minor": 2
}
