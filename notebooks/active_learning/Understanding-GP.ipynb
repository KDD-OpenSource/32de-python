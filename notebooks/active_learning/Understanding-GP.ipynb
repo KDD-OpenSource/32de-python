{
 "cells": [
  {
   "cell_type": "code",
   "execution_count": 3,
   "metadata": {},
   "outputs": [
    {
     "name": "stdout",
     "output_type": "stream",
     "text": [
      "[[1.00000000e+00 0.00000000e+00 0.00000000e+00 0.00000000e+00\n",
      "  0.00000000e+00]\n",
      " [1.00000000e+00 4.47034836e-08 0.00000000e+00 0.00000000e+00\n",
      "  0.00000000e+00]\n",
      " [1.00000000e+00 1.98682149e-08 3.94247668e-08 0.00000000e+00\n",
      "  0.00000000e+00]\n",
      " [1.00000000e+00 1.98682149e-08 1.12642191e-08 3.79906559e-08\n",
      "  0.00000000e+00]\n",
      " [1.00000000e+00 1.98682149e-08 1.12642191e-08 8.76707443e-09\n",
      "  3.79906559e-08]]\n"
     ]
    },
    {
     "data": {
      "image/png": "[encoded data removed]",
      "text/plain": [
       "<matplotlib.figure.Figure at 0x7efd56ee8208>"
      ]
     },
     "metadata": {},
     "output_type": "display_data"
    },
    {
     "name": "stdout",
     "output_type": "stream",
     "text": [
      "0.4967141530112327\n",
      "-0.13826430117118466\n",
      "0.6476885381006925\n"
     ]
    },
    {
     "data": {
      "image/png": "[encoded data removed]",
      "text/plain": [
       "<matplotlib.figure.Figure at 0x7efd54ea3588>"
      ]
     },
     "metadata": {},
     "output_type": "display_data"
    }
   ],
   "source": [
    "import numpy as np\n",
    "import matplotlib.pyplot as pl\n",
    "\n",
    "# Test data\n",
    "n = 5\n",
    "Xtest = np.linspace(-5, 5, n).reshape(-1,1)\n",
    "\n",
    "# Define the kernel function\n",
    "def kernel(a, b, param):\n",
    "    #sqdist = np.sum(a**2,1).reshape(-1,1) + np.sum(b**2,1) - 2*np.dot(a, b.T)\n",
    "    return 1 #np.exp(-.5 * (1/param) * sqdist)\n",
    "\n",
    "param = 0.1\n",
    "K_ss = kernel(Xtest, Xtest, param)\n",
    "\n",
    "np.random.seed(42)\n",
    "# Get cholesky decomposition (square root) of the\n",
    "# covariance matrix\n",
    "L = np.linalg.cholesky(K_ss + 1e-15*np.eye(n))\n",
    "print(L)\n",
    "# Sample 3 sets of standard normals for our test points,\n",
    "# multiply them by the square root of the covariance matrix\n",
    "normal_distributed_samples=np.random.normal(size=(n,3))\n",
    "f_prior = np.dot(L, normal_distributed_samples)\n",
    "\n",
    "# Now let's plot the 3 sampled functions.\n",
    "\n",
    "pl.plot(Xtest, f_prior)\n",
    "pl.axis([-5, 5, -3, 3])\n",
    "pl.title('Three samples from the GP prior')\n",
    "pl.show()\n",
    "\n",
    "np.random.seed(42)\n",
    "\n",
    "for x in range(3):\n",
    "    print(normal_distributed_samples[0][x])\n",
    "\n",
    "np.random.seed(42)\n",
    "pl.plot(Xtest, np.random.normal(size=(n,3)))\n",
    "pl.axis([-5, 5, -3, 3])\n",
    "pl.show()"
   ]
  },
  {
   "cell_type": "code",
   "execution_count": 4,
   "metadata": {},
   "outputs": [
    {
     "ename": "ValueError",
     "evalue": "solve: Input operand 1 does not have enough dimensions (has 0, gufunc core with signature (m,m),(m,n)->(m,n) requires 2)",
     "output_type": "error",
     "traceback": [
      "\u001b[0;31m---------------------------------------------------------------------------\u001b[0m",
      "\u001b[0;31mValueError\u001b[0m                                Traceback (most recent call last)",
      "\u001b[0;32m<ipython-input-4-64f6fd6e6c83>\u001b[0m in \u001b[0;36m<module>\u001b[0;34m()\u001b[0m\n\u001b[1;32m      9\u001b[0m \u001b[0;31m# Compute the mean at our test points.\u001b[0m\u001b[0;34m\u001b[0m\u001b[0;34m\u001b[0m\u001b[0m\n\u001b[1;32m     10\u001b[0m \u001b[0mK_s\u001b[0m \u001b[0;34m=\u001b[0m \u001b[0mkernel\u001b[0m\u001b[0;34m(\u001b[0m\u001b[0mXtrain\u001b[0m\u001b[0;34m,\u001b[0m \u001b[0mXtest\u001b[0m\u001b[0;34m,\u001b[0m \u001b[0mparam\u001b[0m\u001b[0;34m)\u001b[0m\u001b[0;34m\u001b[0m\u001b[0m\n\u001b[0;32m---> 11\u001b[0;31m \u001b[0mLk\u001b[0m \u001b[0;34m=\u001b[0m \u001b[0mnp\u001b[0m\u001b[0;34m.\u001b[0m\u001b[0mlinalg\u001b[0m\u001b[0;34m.\u001b[0m\u001b[0msolve\u001b[0m\u001b[0;34m(\u001b[0m\u001b[0mL\u001b[0m\u001b[0;34m,\u001b[0m \u001b[0mK_s\u001b[0m\u001b[0;34m)\u001b[0m\u001b[0;34m\u001b[0m\u001b[0m\n\u001b[0m\u001b[1;32m     12\u001b[0m \u001b[0mmu\u001b[0m \u001b[0;34m=\u001b[0m \u001b[0mnp\u001b[0m\u001b[0;34m.\u001b[0m\u001b[0mdot\u001b[0m\u001b[0;34m(\u001b[0m\u001b[0mLk\u001b[0m\u001b[0;34m.\u001b[0m\u001b[0mT\u001b[0m\u001b[0;34m,\u001b[0m \u001b[0mnp\u001b[0m\u001b[0;34m.\u001b[0m\u001b[0mlinalg\u001b[0m\u001b[0;34m.\u001b[0m\u001b[0msolve\u001b[0m\u001b[0;34m(\u001b[0m\u001b[0mL\u001b[0m\u001b[0;34m,\u001b[0m \u001b[0mytrain\u001b[0m\u001b[0;34m)\u001b[0m\u001b[0;34m)\u001b[0m\u001b[0;34m.\u001b[0m\u001b[0mreshape\u001b[0m\u001b[0;34m(\u001b[0m\u001b[0;34m(\u001b[0m\u001b[0mn\u001b[0m\u001b[0;34m,\u001b[0m\u001b[0;34m)\u001b[0m\u001b[0;34m)\u001b[0m\u001b[0;34m\u001b[0m\u001b[0m\n\u001b[1;32m     13\u001b[0m \u001b[0;34m\u001b[0m\u001b[0m\n",
      "\u001b[0;32m~/anaconda3/envs/bpal/lib/python3.6/site-packages/numpy/linalg/linalg.py\u001b[0m in \u001b[0;36msolve\u001b[0;34m(a, b)\u001b[0m\n\u001b[1;32m    388\u001b[0m     \u001b[0msignature\u001b[0m \u001b[0;34m=\u001b[0m \u001b[0;34m'DD->D'\u001b[0m \u001b[0;32mif\u001b[0m \u001b[0misComplexType\u001b[0m\u001b[0;34m(\u001b[0m\u001b[0mt\u001b[0m\u001b[0;34m)\u001b[0m \u001b[0;32melse\u001b[0m \u001b[0;34m'dd->d'\u001b[0m\u001b[0;34m\u001b[0m\u001b[0m\n\u001b[1;32m    389\u001b[0m     \u001b[0mextobj\u001b[0m \u001b[0;34m=\u001b[0m \u001b[0mget_linalg_error_extobj\u001b[0m\u001b[0;34m(\u001b[0m\u001b[0m_raise_linalgerror_singular\u001b[0m\u001b[0;34m)\u001b[0m\u001b[0;34m\u001b[0m\u001b[0m\n\u001b[0;32m--> 390\u001b[0;31m     \u001b[0mr\u001b[0m \u001b[0;34m=\u001b[0m \u001b[0mgufunc\u001b[0m\u001b[0;34m(\u001b[0m\u001b[0ma\u001b[0m\u001b[0;34m,\u001b[0m \u001b[0mb\u001b[0m\u001b[0;34m,\u001b[0m \u001b[0msignature\u001b[0m\u001b[0;34m=\u001b[0m\u001b[0msignature\u001b[0m\u001b[0;34m,\u001b[0m \u001b[0mextobj\u001b[0m\u001b[0;34m=\u001b[0m\u001b[0mextobj\u001b[0m\u001b[0;34m)\u001b[0m\u001b[0;34m\u001b[0m\u001b[0m\n\u001b[0m\u001b[1;32m    391\u001b[0m \u001b[0;34m\u001b[0m\u001b[0m\n\u001b[1;32m    392\u001b[0m     \u001b[0;32mreturn\u001b[0m \u001b[0mwrap\u001b[0m\u001b[0;34m(\u001b[0m\u001b[0mr\u001b[0m\u001b[0;34m.\u001b[0m\u001b[0mastype\u001b[0m\u001b[0;34m(\u001b[0m\u001b[0mresult_t\u001b[0m\u001b[0;34m,\u001b[0m \u001b[0mcopy\u001b[0m\u001b[0;34m=\u001b[0m\u001b[0;32mFalse\u001b[0m\u001b[0;34m)\u001b[0m\u001b[0;34m)\u001b[0m\u001b[0;34m\u001b[0m\u001b[0m\n",
      "\u001b[0;31mValueError\u001b[0m: solve: Input operand 1 does not have enough dimensions (has 0, gufunc core with signature (m,m),(m,n)->(m,n) requires 2)"
     ]
    }
   ],
   "source": [
    "# Noiseless training data\n",
    "Xtrain = np.array([0]).reshape(1,1)\n",
    "ytrain = np.array([2]).reshape(1,1)\n",
    "\n",
    "# Apply the kernel function to our training points\n",
    "K = kernel(Xtrain, Xtrain, param)\n",
    "L = np.linalg.cholesky(K + 0.00005*np.eye(len(Xtrain)))\n",
    "\n",
    "# Compute the mean at our test points.\n",
    "K_s = kernel(Xtrain, Xtest, param)\n",
    "Lk = np.linalg.solve(L, K_s)\n",
    "mu = np.dot(Lk.T, np.linalg.solve(L, ytrain)).reshape((n,))\n",
    "\n",
    "# Compute the standard deviation so we can plot it\n",
    "s2 = np.diag(K_ss) - np.sum(Lk**2, axis=0)\n",
    "stdv = np.sqrt(s2)\n",
    "# Draw samples from the posterior at our test points.\n",
    "L = np.linalg.cholesky(K_ss + 1e-6*np.eye(n) - np.dot(Lk.T, Lk))\n",
    "f_post = mu.reshape(-1,1) + np.dot(L, np.random.normal(size=(n,3)))\n",
    "\n",
    "pl.plot(Xtrain, ytrain, 'bs', ms=8)\n",
    "pl.plot(Xtest, f_post)\n",
    "pl.gca().fill_between(Xtest.flat, mu-2*stdv, mu+2*stdv, color=\"#dddddd\")\n",
    "pl.plot(Xtest, mu, 'r--', lw=2)\n",
    "pl.axis([-5, 5, -3, 3])\n",
    "pl.title('Three samples from the GP posterior')\n",
    "pl.show()"
   ]
  },
  {
   "cell_type": "code",
   "execution_count": null,
   "metadata": {},
   "outputs": [],
   "source": []
  }
 ],
 "metadata": {
  "kernelspec": {
   "display_name": "Python 3",
   "language": "python",
   "name": "python3"
  },
  "language_info": {
   "codemirror_mode": {
    "name": "ipython",
    "version": 3
   },
   "file_extension": ".py",
   "mimetype": "text/x-python",
   "name": "python",
   "nbconvert_exporter": "python",
   "pygments_lexer": "ipython3",
   "version": "3.6.4"
  }
 },
 "nbformat": 4,
 "nbformat_minor": 2
}
