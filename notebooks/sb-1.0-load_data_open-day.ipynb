{
 "cells": [
  {
   "cell_type": "code",
   "execution_count": 1,
   "metadata": {},
   "outputs": [],
   "source": [
    "import json"
   ]
  },
  {
   "cell_type": "code",
   "execution_count": 2,
   "metadata": {},
   "outputs": [],
   "source": [
    "path = 'rated_datasets/Rotten_Tomato_Merlin_1519148528.2417703.json'"
   ]
  },
  {
   "cell_type": "code",
   "execution_count": 3,
   "metadata": {},
   "outputs": [],
   "source": [
    "data =json.load(open(path, \"r\", encoding=\"utf8\"))"
   ]
  },
  {
   "cell_type": "code",
   "execution_count": 4,
   "metadata": {},
   "outputs": [
    {
     "data": {
      "text/plain": [
       "{'id': 1,\n",
       " 'metapath': ['Person',\n",
       "  'PRODUCED',\n",
       "  'Movie',\n",
       "  'DIRECTED',\n",
       "  'Person',\n",
       "  'PRODUCED',\n",
       "  'Movie',\n",
       "  'ACTED_IN',\n",
       "  'Person'],\n",
       " 'rating': '0.1'}"
      ]
     },
     "execution_count": 4,
     "metadata": {},
     "output_type": "execute_result"
    }
   ],
   "source": [
    "data[\"meta_paths\"][1]"
   ]
  },
  {
   "cell_type": "code",
   "execution_count": 5,
   "metadata": {},
   "outputs": [],
   "source": [
    "i = 0\n",
    "first = True\n",
    "batches = []\n",
    "batch = []\n",
    "for probably_path in data[\"meta_paths\"]:\n",
    "    # Ignore first time_to_rate\n",
    "    if first:\n",
    "        first = False\n",
    "        continue\n",
    "    i += 1\n",
    "    if i == 6:\n",
    "        # Ignore time_to_rate\n",
    "        i = 0\n",
    "        batches.append(batch)\n",
    "        batch = []\n",
    "    else:\n",
    "        if 'time_to_rate' not in probably_path.keys():\n",
    "            batch.append(probably_path)"
   ]
  },
  {
   "cell_type": "code",
   "execution_count": 6,
   "metadata": {},
   "outputs": [],
   "source": [
    "from util.datastructures import MetaPathRatingGraph, MetaPath\n",
    "graph = MetaPathRatingGraph()\n",
    "\n",
    "for batch in batches:\n",
    "    #ordered = sorted(batch, key=lambda x: float(x['rating']))\n",
    "    for metapath in batch:\n",
    "        for another_metapath in batch:\n",
    "            if metapath is another_metapath:\n",
    "                continue\n",
    "            if float(metapath['rating']) <= float(another_metapath['rating']):\n",
    "                graph.add_user_rating(MetaPath.from_list(another_metapath['metapath']), MetaPath.from_list(metapath['metapath']), \n",
    "                                      distance=float(another_metapath['rating']) - float(metapath['rating']))"
   ]
  },
  {
   "cell_type": "code",
   "execution_count": 7,
   "metadata": {},
   "outputs": [
    {
     "name": "stdout",
     "output_type": "stream",
     "text": [
      "135\n",
      "59\n",
      "Test accuracy is 0.7288135593220338\n"
     ]
    }
   ],
   "source": [
    "import domain_scoring.domain_scoring as domain_scoring\n",
    "domain_score = domain_scoring.DomainScoring()\n",
    "domain_score.fit(graph, test_size=0.3)"
   ]
  },
  {
   "cell_type": "code",
   "execution_count": 8,
   "metadata": {},
   "outputs": [
    {
     "name": "stdout",
     "output_type": "stream",
     "text": [
      "Feature ranking:\n",
      "1. feature 2 (0.281819)\n",
      "2. feature 6 (0.262366)\n",
      "3. feature 4 (0.128521)\n",
      "4. feature 11 (0.093004)\n",
      "5. feature 3 (0.081649)\n",
      "6. feature 10 (0.043133)\n",
      "7. feature 1 (0.032640)\n",
      "8. feature 7 (0.027219)\n",
      "9. feature 9 (0.022623)\n",
      "10. feature 5 (0.013184)\n",
      "11. feature 0 (0.008306)\n",
      "12. feature 8 (0.005537)\n"
     ]
    },
    {
     "data": {
      "text/plain": [
       "<matplotlib.figure.Figure at 0x7f45a6086550>"
      ]
     },
     "metadata": {},
     "output_type": "display_data"
    }
   ],
   "source": [
    "import numpy as np\n",
    "import matplotlib.pyplot as plt\n",
    "\n",
    "importances = domain_score.classifier.feature_importances_\n",
    "indices = np.argsort(importances)[::-1]\n",
    "\n",
    "# Print the feature ranking\n",
    "print(\"Feature ranking:\")\n",
    "\n",
    "for f in range(len(domain_score.classifier.feature_importances_)):\n",
    "    print(\"%d. feature %d (%f)\" % (f + 1, indices[f], importances[indices[f]]))\n",
    "\n",
    "# Plot the feature importances of the forest\n",
    "plt.figure()\n",
    "plt.title(\"Feature importances\")\n",
    "plt.bar(range(len(domain_score.classifier.feature_importances_)), importances[indices],\n",
    "       color=\"r\", align=\"center\")\n",
    "#dict_as_list = list(domain_score.vectorizer.vocabulary_.keys())[list(domain_score.vectorizer.vocabulary_.values())\n",
    "#dict_as_list = dict_as_list * 2  \n",
    "a = list(domain_score.vectorizer.vocabulary_.values())\n",
    "a.extend([i + 6 for i in list(domain_score.vectorizer.vocabulary_.values())])\n",
    "\n",
    "features = list(domain_score.vectorizer.vocabulary_.keys())\n",
    "features.extend([i + '2' for i in list(domain_score.vectorizer.vocabulary_.keys())])\n",
    "features_ordered = [features[a.index(i)] for i in indices]\n",
    "\n",
    "plt.xticks(range(0,len(features_ordered)), \n",
    "           features_ordered,\n",
    "          rotation=90)\n",
    "plt.xlim([-1, len(domain_score.classifier.feature_importances_)])\n",
    "plt.show()"
   ]
  },
  {
   "cell_type": "code",
   "execution_count": 9,
   "metadata": {},
   "outputs": [],
   "source": [
    "from sklearn.tree import export_graphviz\n",
    "export_graphviz(domain_score.classifier, out_file='tree.dot', feature_names=features_ordered)"
   ]
  },
  {
   "cell_type": "markdown",
   "metadata": {},
   "source": [
    "This is **included manually**! **Feature names aren't correct**, somewhere they get messed up!\n",
    "\n",
    "![tree](https://user-images.githubusercontent.com/3034832/36925096-86f2bba6-1e71-11e8-8dd4-4974146d9ca5.png)\n"
   ]
  },
  {
   "cell_type": "code",
   "execution_count": null,
   "metadata": {},
   "outputs": [],
   "source": []
  }
 ],
 "metadata": {
  "kernelspec": {
   "display_name": "Python 3",
   "language": "python",
   "name": "python3"
  },
  "language_info": {
   "codemirror_mode": {
    "name": "ipython",
    "version": 3
   },
   "file_extension": ".py",
   "mimetype": "text/x-python",
   "name": "python",
   "nbconvert_exporter": "python",
   "pygments_lexer": "ipython3",
   "version": "3.5.2"
  }
 },
 "nbformat": 4,
 "nbformat_minor": 2
}
