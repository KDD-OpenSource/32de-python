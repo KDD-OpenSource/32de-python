{
 "cells": [
  {
   "cell_type": "code",
   "execution_count": 1,
   "metadata": {
    "collapsed": true
   },
   "outputs": [],
   "source": [
    "import json"
   ]
  },
  {
   "cell_type": "code",
   "execution_count": 2,
   "metadata": {
    "collapsed": true
   },
   "outputs": [],
   "source": [
    "path = 'rated_datasets/rotten_tomatoes/Merlin_1519148528.2417703.json'"
   ]
  },
  {
   "cell_type": "code",
   "execution_count": 3,
   "metadata": {
    "collapsed": true
   },
   "outputs": [],
   "source": [
    "data =json.load(open(path, \"r\", encoding=\"utf8\"))"
   ]
  },
  {
   "cell_type": "code",
   "execution_count": 4,
   "metadata": {},
   "outputs": [
    {
     "data": {
      "text/plain": [
       "{'id': 1,\n",
       " 'metapath': ['Person',\n",
       "  'PRODUCED',\n",
       "  'Movie',\n",
       "  'DIRECTED',\n",
       "  'Person',\n",
       "  'PRODUCED',\n",
       "  'Movie',\n",
       "  'ACTED_IN',\n",
       "  'Person'],\n",
       " 'rating': '0.1'}"
      ]
     },
     "execution_count": 4,
     "metadata": {},
     "output_type": "execute_result"
    }
   ],
   "source": [
    "data[\"meta_paths\"][1]"
   ]
  },
  {
   "cell_type": "code",
   "execution_count": 5,
   "metadata": {
    "collapsed": true
   },
   "outputs": [],
   "source": [
    "i = 0\n",
    "first = True\n",
    "batches = []\n",
    "batch = []\n",
    "for probably_path in data[\"meta_paths\"]:\n",
    "    # Ignore first time_to_rate\n",
    "    if first:\n",
    "        first = False\n",
    "        continue\n",
    "    i += 1\n",
    "    if i == 6:\n",
    "        # Ignore time_to_rate\n",
    "        i = 0\n",
    "        batches.append(batch)\n",
    "        batch = []\n",
    "    else:\n",
    "        if 'time_to_rate' not in probably_path.keys():\n",
    "            batch.append(probably_path)"
   ]
  },
  {
   "cell_type": "code",
   "execution_count": 6,
   "metadata": {
    "collapsed": true
   },
   "outputs": [],
   "source": [
    "from util.datastructures import MetaPathRatingGraph, MetaPath\n",
    "graph = MetaPathRatingGraph()\n",
    "\n",
    "for batch in batches:\n",
    "    #ordered = sorted(batch, key=lambda x: float(x['rating']))\n",
    "    for metapath in batch:\n",
    "        for another_metapath in batch:\n",
    "            if metapath is another_metapath:\n",
    "                continue\n",
    "            if float(metapath['rating']) <= float(another_metapath['rating']):\n",
    "                graph.add_user_rating(MetaPath.from_list(another_metapath['metapath']), MetaPath.from_list(metapath['metapath']), \n",
    "                                      distance=float(another_metapath['rating']) - float(metapath['rating']))"
   ]
  }
 ],
 "metadata": {
  "kernelspec": {
   "display_name": "Python 3",
   "language": "python",
   "name": "python3"
  },
  "language_info": {
   "codemirror_mode": {
    "name": "ipython",
    "version": 3
   },
   "file_extension": ".py",
   "mimetype": "text/x-python",
   "name": "python",
   "nbconvert_exporter": "python",
   "pygments_lexer": "ipython3",
   "version": "3.5.2"
  }
 },
 "nbformat": 4,
 "nbformat_minor": 2
}
