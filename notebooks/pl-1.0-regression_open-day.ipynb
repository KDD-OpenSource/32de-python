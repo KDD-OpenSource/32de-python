{
 "cells": [
  {
   "cell_type": "code",
   "execution_count": 1,
   "metadata": {},
   "outputs": [],
   "source": [
    "%load_ext autoreload\n",
    "%autoreload 2"
   ]
  },
  {
   "cell_type": "code",
   "execution_count": 2,
   "metadata": {},
   "outputs": [],
   "source": [
    "## Help Python find our packages\n",
    "import sys\n",
    "sys.path.append('..')\n",
    "\n",
    "import json\n",
    "import numpy as np\n",
    "import matplotlib.pyplot as plt\n",
    "import domain_scoring.domain_scoring as domain_scoring"
   ]
  },
  {
   "cell_type": "code",
   "execution_count": 3,
   "metadata": {},
   "outputs": [],
   "source": [
    "path = '../rated_datasets/Rotten_Tomato_Merlin_1519148528.2417703.json'"
   ]
  },
  {
   "cell_type": "code",
   "execution_count": 4,
   "metadata": {},
   "outputs": [],
   "source": [
    "merlin = json.load(open(path, \"r\", encoding=\"utf8\"))"
   ]
  },
  {
   "cell_type": "code",
   "execution_count": 5,
   "metadata": {},
   "outputs": [],
   "source": [
    "path = '../rated_datasets/Rotten Tomato_Potato_1519142479.127663.json'"
   ]
  },
  {
   "cell_type": "code",
   "execution_count": 6,
   "metadata": {},
   "outputs": [],
   "source": [
    "potato = json.load(open(path, \"r\", encoding=\"utf8\"))"
   ]
  },
  {
   "cell_type": "code",
   "execution_count": 7,
   "metadata": {},
   "outputs": [],
   "source": [
    "def extract_mps(data):\n",
    "    i = 0\n",
    "    first = True\n",
    "    batches = []\n",
    "    batch = []\n",
    "    for probably_path in data[\"meta_paths\"]:\n",
    "        # Ignore first time_to_rate\n",
    "        if first:\n",
    "            first = False\n",
    "            continue\n",
    "        i += 1\n",
    "        if i == 6:\n",
    "            # Ignore time_to_rate\n",
    "            i = 0\n",
    "            batches.append(batch)\n",
    "            batch = []\n",
    "        else:\n",
    "            if 'time_to_rate' not in probably_path.keys():\n",
    "                batch.append(probably_path)\n",
    "    return batches"
   ]
  },
  {
   "cell_type": "code",
   "execution_count": 8,
   "metadata": {},
   "outputs": [],
   "source": [
    "def construct_graph(batches):\n",
    "    ## Construct rating graph\n",
    "    from util.datastructures import MetaPathRatingGraph, MetaPath\n",
    "    graph = MetaPathRatingGraph()\n",
    "\n",
    "    for batch in batches:\n",
    "        #ordered = sorted(batch, key=lambda x: float(x['rating']))\n",
    "        for metapath in batch:\n",
    "            for another_metapath in batch:\n",
    "                if metapath is another_metapath:\n",
    "                    continue\n",
    "                if float(metapath['rating']) <= float(another_metapath['rating']):\n",
    "                    graph.add_user_rating(MetaPath.from_list(another_metapath['metapath']), MetaPath.from_list(metapath['metapath']), \n",
    "                                          distance=float(another_metapath['rating']) - float(metapath['rating']))\n",
    "    return graph"
   ]
  },
  {
   "cell_type": "code",
   "execution_count": 9,
   "metadata": {},
   "outputs": [],
   "source": [
    "## Clean up data // remove time_to_rate from array of ratings.\n",
    "def clean_up(data):\n",
    "    batches = extract_mps(data)\n",
    "    return batches, construct_graph(batches)"
   ]
  },
  {
   "cell_type": "code",
   "execution_count": 10,
   "metadata": {},
   "outputs": [],
   "source": [
    "p_batches, p_graph = clean_up(potato)\n",
    "m_batches, m_graph = clean_up(merlin)"
   ]
  },
  {
   "cell_type": "code",
   "execution_count": 11,
   "metadata": {},
   "outputs": [],
   "source": [
    "domain_score = domain_scoring.DomainScoringRegressor()"
   ]
  },
  {
   "cell_type": "code",
   "execution_count": 12,
   "metadata": {},
   "outputs": [],
   "source": [
    "from sklearn.linear_model import ARDRegression\n",
    "from sklearn.feature_extraction.text import TfidfVectorizer\n",
    "from sklearn.ensemble import RandomForestRegressor"
   ]
  },
  {
   "cell_type": "code",
   "execution_count": 20,
   "metadata": {},
   "outputs": [],
   "source": [
    "# Configure other predictor and transformer\n",
    "domain_score.vectorizer = TfidfVectorizer(analyzer='word', ngram_range=(1, 2), token_pattern='\\\\b\\\\w+\\\\b')\n",
    "domain_score.classifier = RandomForestRegressor(random_state=42)"
   ]
  },
  {
   "cell_type": "code",
   "execution_count": 21,
   "metadata": {},
   "outputs": [
    {
     "name": "stdout",
     "output_type": "stream",
     "text": [
      "Test accuracy is 0.3898305084745763\n",
      "R^2 is 0.6858428553949141\n"
     ]
    }
   ],
   "source": [
    "domain_score.fit(m_graph, test_size=0.3)"
   ]
  },
  {
   "cell_type": "code",
   "execution_count": 22,
   "metadata": {},
   "outputs": [
    {
     "name": "stdout",
     "output_type": "stream",
     "text": [
      "Test accuracy is 0.3157894736842105\n",
      "R^2 is 0.7736986555155622\n"
     ]
    }
   ],
   "source": [
    "domain_score.fit(p_graph, test_size=0.3)"
   ]
  },
  {
   "cell_type": "code",
   "execution_count": 16,
   "metadata": {},
   "outputs": [
    {
     "name": "stdout",
     "output_type": "stream",
     "text": [
      "Feature ranking:\n",
      "1. feature 8 (0.345370)\n",
      "2. feature 2 (0.245315)\n",
      "3. feature 4 (0.067725)\n",
      "4. feature 6 (0.049114)\n",
      "5. feature 5 (0.043297)\n",
      "6. feature 9 (0.041178)\n",
      "7. feature 0 (0.040368)\n",
      "8. feature 11 (0.036193)\n",
      "9. feature 7 (0.035172)\n",
      "10. feature 10 (0.033848)\n",
      "11. feature 3 (0.033179)\n",
      "12. feature 1 (0.029241)\n"
     ]
    },
    {
     "data": {
      "text/plain": [
       "(-1, 12)"
      ]
     },
     "execution_count": 16,
     "metadata": {},
     "output_type": "execute_result"
    },
    {
     "data": {
      "image/png": "[encoded data removed]",
      "text/plain": [
       "<matplotlib.figure.Figure at 0x7ff61b76a518>"
      ]
     },
     "metadata": {},
     "output_type": "display_data"
    }
   ],
   "source": [
    "importances = domain_score.classifier.feature_importances_\n",
    "indices = np.argsort(importances)[::-1]\n",
    "\n",
    "# Print the feature ranking\n",
    "print(\"Feature ranking:\")\n",
    "\n",
    "for f in range(len(domain_score.classifier.feature_importances_)):\n",
    "    print(\"%d. feature %d (%f)\" % (f + 1, indices[f], importances[indices[f]]))\n",
    "\n",
    "# Plot the feature importances of the forest\n",
    "plt.figure()\n",
    "plt.title(\"Feature importances\")\n",
    "plt.bar(range(len(domain_score.classifier.feature_importances_)), importances[indices],\n",
    "       color=\"r\", align=\"center\")\n",
    "a = list(domain_score.vectorizer.vocabulary_.values())\n",
    "a.extend([i + len(list(domain_score.vectorizer.vocabulary_.values())) for i in list(domain_score.vectorizer.vocabulary_.values())])\n",
    "\n",
    "features = list(domain_score.vectorizer.vocabulary_.keys())\n",
    "features.extend([i + '2' for i in list(domain_score.vectorizer.vocabulary_.keys())])\n",
    "features_ordered = [features[a.index(i)] for i in indices]\n",
    "\n",
    "plt.xticks(range(0,len(features_ordered)), \n",
    "           features_ordered,\n",
    "          rotation=90)\n",
    "plt.xlim([-1, len(domain_score.classifier.feature_importances_)])\n"
   ]
  }
 ],
 "metadata": {
  "kernelspec": {
   "display_name": "Python 3",
   "language": "python",
   "name": "python3"
  },
  "language_info": {
   "codemirror_mode": {
    "name": "ipython",
    "version": 3
   },
   "file_extension": ".py",
   "mimetype": "text/x-python",
   "name": "python",
   "nbconvert_exporter": "python",
   "pygments_lexer": "ipython3",
   "version": "3.5.2"
  }
 },
 "nbformat": 4,
 "nbformat_minor": 2
}
