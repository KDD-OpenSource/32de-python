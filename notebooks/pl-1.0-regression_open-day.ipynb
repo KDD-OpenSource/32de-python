{
 "cells": [
  {
   "cell_type": "code",
   "execution_count": 15,
   "metadata": {},
   "outputs": [
    {
     "name": "stdout",
     "output_type": "stream",
     "text": [
      "The autoreload extension is already loaded. To reload it, use:\n",
      "  %reload_ext autoreload\n"
     ]
    }
   ],
   "source": [
    "%load_ext autoreload\n",
    "%autoreload 2"
   ]
  },
  {
   "cell_type": "code",
   "execution_count": 16,
   "metadata": {},
   "outputs": [],
   "source": [
    "## Help Python find our packages\n",
    "import sys\n",
    "sys.path.append('..')\n",
    "\n",
    "import json\n",
    "import numpy as np\n",
    "import matplotlib.pyplot as plt\n",
    "import domain_scoring.domain_scoring as domain_scoring"
   ]
  },
  {
   "cell_type": "code",
   "execution_count": 17,
   "metadata": {},
   "outputs": [],
   "source": [
    "path = '../rated_datasets/Rotten_Tomato_Merlin_1519148528.2417703.json'"
   ]
  },
  {
   "cell_type": "code",
   "execution_count": 18,
   "metadata": {},
   "outputs": [],
   "source": [
    "merlin =json.load(open(path, \"r\", encoding=\"utf8\"))"
   ]
  },
  {
   "cell_type": "code",
   "execution_count": 19,
   "metadata": {},
   "outputs": [],
   "source": [
    "path = '../rated_datasets/Rotten Tomato_Potato_1519142479.127663.json'"
   ]
  },
  {
   "cell_type": "code",
   "execution_count": 20,
   "metadata": {},
   "outputs": [],
   "source": [
    "potato = json.load(open(path, \"r\", encoding=\"utf8\"))"
   ]
  },
  {
   "cell_type": "code",
   "execution_count": 21,
   "metadata": {},
   "outputs": [],
   "source": [
    "def extract_mps(data):\n",
    "    i = 0\n",
    "    first = True\n",
    "    batches = []\n",
    "    batch = []\n",
    "    for probably_path in data[\"meta_paths\"]:\n",
    "        # Ignore first time_to_rate\n",
    "        if first:\n",
    "            first = False\n",
    "            continue\n",
    "        i += 1\n",
    "        if i == 6:\n",
    "            # Ignore time_to_rate\n",
    "            i = 0\n",
    "            batches.append(batch)\n",
    "            batch = []\n",
    "        else:\n",
    "            if 'time_to_rate' not in probably_path.keys():\n",
    "                batch.append(probably_path)\n",
    "    return batches"
   ]
  },
  {
   "cell_type": "code",
   "execution_count": 22,
   "metadata": {},
   "outputs": [],
   "source": [
    "def construct_graph(batches):\n",
    "    ## Construct rating graph\n",
    "    from util.datastructures import MetaPathRatingGraph, MetaPath\n",
    "    graph = MetaPathRatingGraph()\n",
    "\n",
    "    for batch in batches:\n",
    "        #ordered = sorted(batch, key=lambda x: float(x['rating']))\n",
    "        for metapath in batch:\n",
    "            for another_metapath in batch:\n",
    "                if metapath is another_metapath:\n",
    "                    continue\n",
    "                if float(metapath['rating']) <= float(another_metapath['rating']):\n",
    "                    graph.add_user_rating(MetaPath.from_list(another_metapath['metapath']), MetaPath.from_list(metapath['metapath']), \n",
    "                                          distance=float(another_metapath['rating']) - float(metapath['rating']))\n",
    "    return graph"
   ]
  },
  {
   "cell_type": "code",
   "execution_count": 23,
   "metadata": {},
   "outputs": [],
   "source": [
    "## Clean up data // remove time_to_rate from array of ratings.\n",
    "def clean_up(data):\n",
    "    batches = extract_mps(data)\n",
    "    return batches, construct_graph(batches)"
   ]
  },
  {
   "cell_type": "code",
   "execution_count": 24,
   "metadata": {},
   "outputs": [],
   "source": [
    "p_batches, p_graph = clean_up(potato)\n",
    "m_batches, m_graph = clean_up(merlin)"
   ]
  },
  {
   "cell_type": "code",
   "execution_count": 25,
   "metadata": {},
   "outputs": [
    {
     "ename": "TypeError",
     "evalue": "descriptor '__init__' requires a 'super' object but received a 'DomainScoringRegressor'",
     "output_type": "error",
     "traceback": [
      "\u001b[0;31m---------------------------------------------------------------------------\u001b[0m",
      "\u001b[0;31mTypeError\u001b[0m                                 Traceback (most recent call last)",
      "\u001b[0;32m<ipython-input-25-b2356eb00930>\u001b[0m in \u001b[0;36m<module>\u001b[0;34m()\u001b[0m\n\u001b[0;32m----> 1\u001b[0;31m \u001b[0mdomain_score\u001b[0m \u001b[0;34m=\u001b[0m \u001b[0mdomain_scoring\u001b[0m\u001b[0;34m.\u001b[0m\u001b[0mDomainScoringRegressor\u001b[0m\u001b[0;34m(\u001b[0m\u001b[0;34m)\u001b[0m\u001b[0;34m\u001b[0m\u001b[0m\n\u001b[0m",
      "\u001b[0;32m/32de-python/domain_scoring/domain_scoring.py\u001b[0m in \u001b[0;36m__init__\u001b[0;34m(self)\u001b[0m\n\u001b[1;32m    125\u001b[0m         \u001b[0mExtracts\u001b[0m \u001b[0mthe\u001b[0m \u001b[0mdomain\u001b[0m \u001b[0mvalue\u001b[0m \u001b[0mof\u001b[0m \u001b[0mmeta\u001b[0m\u001b[0;34m-\u001b[0m\u001b[0mpaths\u001b[0m \u001b[0mvia\u001b[0m \u001b[0mregression\u001b[0m\u001b[0;34m.\u001b[0m\u001b[0;34m\u001b[0m\u001b[0m\n\u001b[1;32m    126\u001b[0m         \"\"\"\n\u001b[0;32m--> 127\u001b[0;31m         \u001b[0msuper\u001b[0m\u001b[0;34m.\u001b[0m\u001b[0m__init__\u001b[0m\u001b[0;34m(\u001b[0m\u001b[0mself\u001b[0m\u001b[0;34m)\u001b[0m\u001b[0;34m\u001b[0m\u001b[0m\n\u001b[0m\u001b[1;32m    128\u001b[0m         \u001b[0mself\u001b[0m\u001b[0;34m.\u001b[0m\u001b[0mclassifier\u001b[0m \u001b[0;34m=\u001b[0m \u001b[0mRandomForestRegressor\u001b[0m\u001b[0;34m(\u001b[0m\u001b[0;34m)\u001b[0m\u001b[0;34m\u001b[0m\u001b[0m\n\u001b[1;32m    129\u001b[0m \u001b[0;34m\u001b[0m\u001b[0m\n",
      "\u001b[0;31mTypeError\u001b[0m: descriptor '__init__' requires a 'super' object but received a 'DomainScoringRegressor'"
     ]
    }
   ],
   "source": [
    "domain_score = domain_scoring.DomainScoringRegressor()"
   ]
  },
  {
   "cell_type": "code",
   "execution_count": null,
   "metadata": {},
   "outputs": [],
   "source": [
    "from sklearn.linear_model import ARDRegression\n",
    "from sklearn.feature_extraction.text import TfidfVectorizer\n",
    "from sklearn.ensemble import RandomForestRegressor"
   ]
  },
  {
   "cell_type": "code",
   "execution_count": null,
   "metadata": {},
   "outputs": [],
   "source": [
    "# Configure other predictor and transformer\n",
    "domain_score.vectorizer = TfidfVectorizer(analyzer='word', ngram_range=(1, 2), token_pattern='\\\\b\\\\w+\\\\b')\n",
    "domain_score.classifier = RandomForestRegressor(random_state=42)"
   ]
  },
  {
   "cell_type": "code",
   "execution_count": null,
   "metadata": {},
   "outputs": [],
   "source": [
    "domain_score.fit(m_graph, test_size=0.3)"
   ]
  },
  {
   "cell_type": "code",
   "execution_count": null,
   "metadata": {},
   "outputs": [],
   "source": [
    "domain_score.fit(p_graph, test_size=0.3)"
   ]
  },
  {
   "cell_type": "code",
   "execution_count": null,
   "metadata": {},
   "outputs": [],
   "source": [
    "importances = domain_score.classifier.feature_importances_\n",
    "indices = np.argsort(importances)[::-1]\n",
    "\n",
    "# Print the feature ranking\n",
    "print(\"Feature ranking:\")\n",
    "\n",
    "for f in range(len(domain_score.classifier.feature_importances_)):\n",
    "    print(\"%d. feature %d (%f)\" % (f + 1, indices[f], importances[indices[f]]))\n",
    "\n",
    "# Plot the feature importances of the forest\n",
    "plt.figure()\n",
    "plt.title(\"Feature importances\")\n",
    "plt.bar(range(len(domain_score.classifier.feature_importances_)), importances[indices],\n",
    "       color=\"r\", align=\"center\")\n",
    "a = list(domain_score.vectorizer.vocabulary_.values())\n",
    "a.extend([i + len(list(domain_score.vectorizer.vocabulary_.values())) for i in list(domain_score.vectorizer.vocabulary_.values())])\n",
    "\n",
    "features = list(domain_score.vectorizer.vocabulary_.keys())\n",
    "features.extend([i + '2' for i in list(domain_score.vectorizer.vocabulary_.keys())])\n",
    "features_ordered = [features[a.index(i)] for i in indices]\n",
    "\n",
    "plt.xticks(range(0,len(features_ordered)), \n",
    "           features_ordered,\n",
    "          rotation=90)\n",
    "plt.xlim([-1, len(domain_score.classifier.feature_importances_)])\n"
   ]
  }
 ],
 "metadata": {
  "kernelspec": {
   "display_name": "Python 3",
   "language": "python",
   "name": "python3"
  },
  "language_info": {
   "codemirror_mode": {
    "name": "ipython",
    "version": 3
   },
   "file_extension": ".py",
   "mimetype": "text/x-python",
   "name": "python",
   "nbconvert_exporter": "python",
   "pygments_lexer": "ipython3",
   "version": "3.5.2"
  }
 },
 "nbformat": 4,
 "nbformat_minor": 2
}
