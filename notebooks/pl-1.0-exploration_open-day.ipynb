{
 "cells": [
  {
   "cell_type": "code",
   "execution_count": 47,
   "metadata": {},
   "outputs": [],
   "source": [
    "## Help Python find our packages\n",
    "import sys\n",
    "sys.path.append('..')\n",
    "\n",
    "import json\n",
    "import numpy as np\n",
    "import matplotlib.pyplot as plt\n",
    "import domain_scoring.domain_scoring as domain_scoring"
   ]
  },
  {
   "cell_type": "code",
   "execution_count": 49,
   "metadata": {},
   "outputs": [],
   "source": [
    "import pandas as pd"
   ]
  },
  {
   "cell_type": "code",
   "execution_count": 34,
   "metadata": {},
   "outputs": [],
   "source": [
    "path = '../rated_datasets/Rotten Tomato_Potato_1519142479.127663.json'"
   ]
  },
  {
   "cell_type": "code",
   "execution_count": 35,
   "metadata": {},
   "outputs": [],
   "source": [
    "potato = json.load(open(path, \"r\", encoding=\"utf8\"))"
   ]
  },
  {
   "cell_type": "code",
   "execution_count": 36,
   "metadata": {},
   "outputs": [],
   "source": [
    "path = '../rated_datasets/Rotten_Tomato_Merlin_1519148528.2417703.json'"
   ]
  },
  {
   "cell_type": "code",
   "execution_count": 37,
   "metadata": {},
   "outputs": [],
   "source": [
    "merlin = json.load(open(path, \"r\", encoding=\"utf8\"))"
   ]
  },
  {
   "cell_type": "code",
   "execution_count": 91,
   "metadata": {},
   "outputs": [],
   "source": [
    "type_selection = merlin[\"edge_type_selection\"] + merlin[\"node_type_selection\"]"
   ]
  },
  {
   "cell_type": "code",
   "execution_count": 95,
   "metadata": {},
   "outputs": [
    {
     "data": {
      "text/plain": [
       "['PRODUCED', 'DIRECTED', 'WROTE', 'ACTED_IN', 'Person', 'Movie']"
      ]
     },
     "execution_count": 95,
     "metadata": {},
     "output_type": "execute_result"
    }
   ],
   "source": [
    "types = []\n",
    "for pair in type_selection:\n",
    "    types.append(pair[0])\n",
    "types"
   ]
  },
  {
   "cell_type": "code",
   "execution_count": 38,
   "metadata": {},
   "outputs": [
    {
     "data": {
      "text/plain": [
       "{'id': 1,\n",
       " 'metapath': ['Person',\n",
       "  'ACTED_IN',\n",
       "  'Movie',\n",
       "  'DIRECTED',\n",
       "  'Person',\n",
       "  'PRODUCED',\n",
       "  'Movie',\n",
       "  'ACTED_IN',\n",
       "  'Person'],\n",
       " 'rating': '0.11'}"
      ]
     },
     "execution_count": 38,
     "metadata": {},
     "output_type": "execute_result"
    }
   ],
   "source": [
    "data[\"meta_paths\"][1]"
   ]
  },
  {
   "cell_type": "code",
   "execution_count": 40,
   "metadata": {},
   "outputs": [],
   "source": [
    "def extract_mps(data):\n",
    "    i = 0\n",
    "    first = True\n",
    "    batches = []\n",
    "    batch = []\n",
    "    for probably_path in data[\"meta_paths\"]:\n",
    "        # Ignore first time_to_rate\n",
    "        if first:\n",
    "            first = False\n",
    "            continue\n",
    "        i += 1\n",
    "        if i == 6:\n",
    "            # Ignore time_to_rate\n",
    "            i = 0\n",
    "            batches.append(batch)\n",
    "            batch = []\n",
    "        else:\n",
    "            if 'time_to_rate' not in probably_path.keys():\n",
    "                batch.append(probably_path)\n",
    "    return batches"
   ]
  },
  {
   "cell_type": "code",
   "execution_count": 41,
   "metadata": {},
   "outputs": [],
   "source": [
    "def construct_graph(batches):\n",
    "    ## Construct rating graph\n",
    "    from util.datastructures import MetaPathRatingGraph, MetaPath\n",
    "    graph = MetaPathRatingGraph()\n",
    "\n",
    "    for batch in batches:\n",
    "        #ordered = sorted(batch, key=lambda x: float(x['rating']))\n",
    "        for metapath in batch:\n",
    "            for another_metapath in batch:\n",
    "                if metapath is another_metapath:\n",
    "                    continue\n",
    "                if float(metapath['rating']) <= float(another_metapath['rating']):\n",
    "                    graph.add_user_rating(MetaPath.from_list(another_metapath['metapath']), MetaPath.from_list(metapath['metapath']), \n",
    "                                          distance=float(another_metapath['rating']) - float(metapath['rating']))\n",
    "    return graph"
   ]
  },
  {
   "cell_type": "code",
   "execution_count": 96,
   "metadata": {},
   "outputs": [],
   "source": [
    "## Clean up data // remove time_to_rate from array of ratings.\n",
    "def clean_up(data):\n",
    "    batches = extract_mps(data)\n",
    "    return batches, construct_graph(batches)"
   ]
  },
  {
   "cell_type": "code",
   "execution_count": 97,
   "metadata": {},
   "outputs": [],
   "source": [
    "m_batches, m_graph = clean_up(merlin)\n",
    "p_batches, p_graph = clean_up(potato)"
   ]
  },
  {
   "cell_type": "code",
   "execution_count": 44,
   "metadata": {},
   "outputs": [],
   "source": [
    "domain_score = domain_scoring.DomainScoring()"
   ]
  },
  {
   "cell_type": "code",
   "execution_count": 45,
   "metadata": {},
   "outputs": [
    {
     "name": "stdout",
     "output_type": "stream",
     "text": [
      "Test accuracy is 0.7288135593220338\n"
     ]
    }
   ],
   "source": [
    "domain_score.fit(m_graph, test_size=0.3)"
   ]
  },
  {
   "cell_type": "code",
   "execution_count": 46,
   "metadata": {
    "scrolled": true
   },
   "outputs": [
    {
     "name": "stdout",
     "output_type": "stream",
     "text": [
      "Test accuracy is 0.6491228070175439\n"
     ]
    }
   ],
   "source": [
    "domain_score.fit(p_graph, test_size=0.3)"
   ]
  },
  {
   "cell_type": "code",
   "execution_count": 63,
   "metadata": {},
   "outputs": [],
   "source": [
    "def to_dataframe(batches):\n",
    "    data = {\"id\": [], \"meta_path\": [], \"rating\": [], \"batch_number\": []}\n",
    "    i = 0\n",
    "    for batch in batches:\n",
    "        for rating in batch:\n",
    "            data[\"id\"].append(rating[\"id\"])\n",
    "            data[\"meta_path\"].append(rating[\"metapath\"])\n",
    "            data[\"rating\"].append(rating[\"rating\"])\n",
    "            data[\"batch_number\"].append(i)\n",
    "        i += 1\n",
    "    return pd.DataFrame(data)"
   ]
  },
  {
   "cell_type": "code",
   "execution_count": 98,
   "metadata": {},
   "outputs": [],
   "source": [
    "dataframe = to_dataframe(m_batches)"
   ]
  },
  {
   "cell_type": "code",
   "execution_count": 99,
   "metadata": {},
   "outputs": [
    {
     "data": {
      "text/plain": [
       "9"
      ]
     },
     "execution_count": 99,
     "metadata": {},
     "output_type": "execute_result"
    }
   ],
   "source": [
    "len(dataframe.iloc[0][\"meta_path\"])"
   ]
  },
  {
   "cell_type": "code",
   "execution_count": 100,
   "metadata": {
    "scrolled": false
   },
   "outputs": [
    {
     "data": {
      "text/html": [
       "<div>\n",
       "<table border=\"1\" class=\"dataframe\">\n",
       "  <thead>\n",
       "    <tr style=\"text-align: right;\">\n",
       "      <th></th>\n",
       "      <th>batch_number</th>\n",
       "      <th>id</th>\n",
       "      <th>meta_path</th>\n",
       "      <th>rating</th>\n",
       "    </tr>\n",
       "  </thead>\n",
       "  <tbody>\n",
       "    <tr>\n",
       "      <th>0</th>\n",
       "      <td>0</td>\n",
       "      <td>1</td>\n",
       "      <td>[Person, PRODUCED, Movie, DIRECTED, Person, PR...</td>\n",
       "      <td>0.1</td>\n",
       "    </tr>\n",
       "    <tr>\n",
       "      <th>1</th>\n",
       "      <td>0</td>\n",
       "      <td>2</td>\n",
       "      <td>[Person, PRODUCED, Movie, ACTED_IN, Person]</td>\n",
       "      <td>0.25</td>\n",
       "    </tr>\n",
       "    <tr>\n",
       "      <th>2</th>\n",
       "      <td>0</td>\n",
       "      <td>3</td>\n",
       "      <td>[Person, DIRECTED, Movie, WROTE, Person, PRODU...</td>\n",
       "      <td>0.15</td>\n",
       "    </tr>\n",
       "    <tr>\n",
       "      <th>3</th>\n",
       "      <td>0</td>\n",
       "      <td>4</td>\n",
       "      <td>[Person, DIRECTED, Movie, PRODUCED, Person, WR...</td>\n",
       "      <td>0.15</td>\n",
       "    </tr>\n",
       "    <tr>\n",
       "      <th>4</th>\n",
       "      <td>0</td>\n",
       "      <td>5</td>\n",
       "      <td>[Person, PRODUCED, Movie, ACTED_IN, Person, AC...</td>\n",
       "      <td>0.2</td>\n",
       "    </tr>\n",
       "  </tbody>\n",
       "</table>\n",
       "</div>"
      ],
      "text/plain": [
       "   batch_number  id                                          meta_path rating\n",
       "0             0   1  [Person, PRODUCED, Movie, DIRECTED, Person, PR...    0.1\n",
       "1             0   2        [Person, PRODUCED, Movie, ACTED_IN, Person]   0.25\n",
       "2             0   3  [Person, DIRECTED, Movie, WROTE, Person, PRODU...   0.15\n",
       "3             0   4  [Person, DIRECTED, Movie, PRODUCED, Person, WR...   0.15\n",
       "4             0   5  [Person, PRODUCED, Movie, ACTED_IN, Person, AC...    0.2"
      ]
     },
     "execution_count": 100,
     "metadata": {},
     "output_type": "execute_result"
    }
   ],
   "source": [
    "dataframe.head(5)"
   ]
  },
  {
   "cell_type": "code",
   "execution_count": 101,
   "metadata": {},
   "outputs": [],
   "source": [
    "## Let's add some features\n",
    "# Length\n",
    "dataframe[\"length\"] = dataframe.apply(lambda row: len(row[\"meta_path\"]), axis=1)"
   ]
  },
  {
   "cell_type": "code",
   "execution_count": null,
   "metadata": {},
   "outputs": [],
   "source": [
    "# Edge/Node Type counts\n",
    "for mp_type in types:\n",
    "    dataframe[mp_type + \"_count\"] = dataframe.apply(lambda row: row[\"meta_path\"].count(mp_type), axis=1)"
   ]
  },
  {
   "cell_type": "code",
   "execution_count": null,
   "metadata": {},
   "outputs": [],
   "source": [
    "# Convert rating to a number\n",
    "dataframe[\"rating\"] = dataframe[\"rating\"].apply(pd.to_numeric)"
   ]
  },
  {
   "cell_type": "code",
   "execution_count": 112,
   "metadata": {},
   "outputs": [
    {
     "data": {
      "text/html": [
       "<div>\n",
       "<table border=\"1\" class=\"dataframe\">\n",
       "  <thead>\n",
       "    <tr style=\"text-align: right;\">\n",
       "      <th></th>\n",
       "      <th>batch_number</th>\n",
       "      <th>id</th>\n",
       "      <th>meta_path</th>\n",
       "      <th>rating</th>\n",
       "      <th>length</th>\n",
       "      <th>PRODUCED_count</th>\n",
       "      <th>DIRECTED_count</th>\n",
       "      <th>WROTE_count</th>\n",
       "      <th>ACTED_IN_count</th>\n",
       "      <th>Person_count</th>\n",
       "      <th>Movie_count</th>\n",
       "    </tr>\n",
       "  </thead>\n",
       "  <tbody>\n",
       "    <tr>\n",
       "      <th>0</th>\n",
       "      <td>0</td>\n",
       "      <td>1</td>\n",
       "      <td>[Person, PRODUCED, Movie, DIRECTED, Person, PR...</td>\n",
       "      <td>0.1</td>\n",
       "      <td>9</td>\n",
       "      <td>2</td>\n",
       "      <td>1</td>\n",
       "      <td>0</td>\n",
       "      <td>1</td>\n",
       "      <td>3</td>\n",
       "      <td>2</td>\n",
       "    </tr>\n",
       "    <tr>\n",
       "      <th>1</th>\n",
       "      <td>0</td>\n",
       "      <td>2</td>\n",
       "      <td>[Person, PRODUCED, Movie, ACTED_IN, Person]</td>\n",
       "      <td>0.25</td>\n",
       "      <td>5</td>\n",
       "      <td>1</td>\n",
       "      <td>0</td>\n",
       "      <td>0</td>\n",
       "      <td>1</td>\n",
       "      <td>2</td>\n",
       "      <td>1</td>\n",
       "    </tr>\n",
       "    <tr>\n",
       "      <th>2</th>\n",
       "      <td>0</td>\n",
       "      <td>3</td>\n",
       "      <td>[Person, DIRECTED, Movie, WROTE, Person, PRODU...</td>\n",
       "      <td>0.15</td>\n",
       "      <td>9</td>\n",
       "      <td>1</td>\n",
       "      <td>1</td>\n",
       "      <td>1</td>\n",
       "      <td>1</td>\n",
       "      <td>3</td>\n",
       "      <td>2</td>\n",
       "    </tr>\n",
       "    <tr>\n",
       "      <th>3</th>\n",
       "      <td>0</td>\n",
       "      <td>4</td>\n",
       "      <td>[Person, DIRECTED, Movie, PRODUCED, Person, WR...</td>\n",
       "      <td>0.15</td>\n",
       "      <td>9</td>\n",
       "      <td>1</td>\n",
       "      <td>1</td>\n",
       "      <td>1</td>\n",
       "      <td>1</td>\n",
       "      <td>3</td>\n",
       "      <td>2</td>\n",
       "    </tr>\n",
       "    <tr>\n",
       "      <th>4</th>\n",
       "      <td>0</td>\n",
       "      <td>5</td>\n",
       "      <td>[Person, PRODUCED, Movie, ACTED_IN, Person, AC...</td>\n",
       "      <td>0.2</td>\n",
       "      <td>9</td>\n",
       "      <td>1</td>\n",
       "      <td>0</td>\n",
       "      <td>0</td>\n",
       "      <td>3</td>\n",
       "      <td>3</td>\n",
       "      <td>2</td>\n",
       "    </tr>\n",
       "  </tbody>\n",
       "</table>\n",
       "</div>"
      ],
      "text/plain": [
       "   batch_number  id                                          meta_path rating  \\\n",
       "0             0   1  [Person, PRODUCED, Movie, DIRECTED, Person, PR...    0.1   \n",
       "1             0   2        [Person, PRODUCED, Movie, ACTED_IN, Person]   0.25   \n",
       "2             0   3  [Person, DIRECTED, Movie, WROTE, Person, PRODU...   0.15   \n",
       "3             0   4  [Person, DIRECTED, Movie, PRODUCED, Person, WR...   0.15   \n",
       "4             0   5  [Person, PRODUCED, Movie, ACTED_IN, Person, AC...    0.2   \n",
       "\n",
       "   length  PRODUCED_count  DIRECTED_count  WROTE_count  ACTED_IN_count  \\\n",
       "0       9               2               1            0               1   \n",
       "1       5               1               0            0               1   \n",
       "2       9               1               1            1               1   \n",
       "3       9               1               1            1               1   \n",
       "4       9               1               0            0               3   \n",
       "\n",
       "   Person_count  Movie_count  \n",
       "0             3            2  \n",
       "1             2            1  \n",
       "2             3            2  \n",
       "3             3            2  \n",
       "4             3            2  "
      ]
     },
     "execution_count": 112,
     "metadata": {},
     "output_type": "execute_result"
    }
   ],
   "source": [
    "dataframe.head(5)"
   ]
  },
  {
   "cell_type": "code",
   "execution_count": 119,
   "metadata": {},
   "outputs": [
    {
     "data": {
      "text/plain": [
       "0.40560000000000002"
      ]
     },
     "execution_count": 119,
     "metadata": {},
     "output_type": "execute_result"
    }
   ],
   "source": [
    "dataframe[\"rating\"].mean()"
   ]
  },
  {
   "cell_type": "code",
   "execution_count": 121,
   "metadata": {},
   "outputs": [
    {
     "data": {
      "image/png": "[encoded data removed]",
      "text/plain": [
       "<Figure size 432x288 with 1 Axes>"
      ]
     },
     "metadata": {},
     "output_type": "display_data"
    }
   ],
   "source": [
    "plt.boxplot(dataframe[\"rating\"])\n",
    "plt.show()"
   ]
  },
  {
   "cell_type": "code",
   "execution_count": 124,
   "metadata": {},
   "outputs": [
    {
     "data": {
      "text/plain": [
       "array([9, 5])"
      ]
     },
     "execution_count": 124,
     "metadata": {},
     "output_type": "execute_result"
    }
   ],
   "source": [
    "dataframe[\"length\"].unique()"
   ]
  },
  {
   "cell_type": "code",
   "execution_count": null,
   "metadata": {},
   "outputs": [],
   "source": []
  }
 ],
 "metadata": {
  "kernelspec": {
   "display_name": "Python 3",
   "language": "python",
   "name": "python3"
  },
  "language_info": {
   "codemirror_mode": {
    "name": "ipython",
    "version": 3
   },
   "file_extension": ".py",
   "mimetype": "text/x-python",
   "name": "python",
   "nbconvert_exporter": "python",
   "pygments_lexer": "ipython3",
   "version": "3.6.4"
  }
 },
 "nbformat": 4,
 "nbformat_minor": 2
}
