{
 "cells": [
  {
   "cell_type": "code",
   "execution_count": 1,
   "metadata": {
    "scrolled": true
   },
   "outputs": [
    {
     "name": "stderr",
     "output_type": "stream",
     "text": [
      "Using TensorFlow backend.\n"
     ]
    }
   ],
   "source": [
    "from keras.models import Sequential\n",
    "from keras.layers import *"
   ]
  },
  {
   "cell_type": "code",
   "execution_count": 2,
   "metadata": {},
   "outputs": [],
   "source": [
    "## Help Python find our packages\n",
    "import sys\n",
    "sys.path.append('..')\n",
    "\n",
    "import json\n",
    "import numpy as np\n",
    "import matplotlib.pyplot as plt\n",
    "import domain_scoring.domain_scoring as domain_scoring\n",
    "\n",
    "# Randomness\n",
    "import random as rn\n",
    "import tensorflow as tf\n",
    "import os"
   ]
  },
  {
   "cell_type": "code",
   "execution_count": 3,
   "metadata": {},
   "outputs": [],
   "source": [
    "path = '../rated_datasets/Rotten_Tomato_Merlin_1519148528.2417703.json'"
   ]
  },
  {
   "cell_type": "code",
   "execution_count": 4,
   "metadata": {},
   "outputs": [],
   "source": [
    "potato = json.load(open(path, \"r\", encoding=\"utf8\"))"
   ]
  },
  {
   "cell_type": "code",
   "execution_count": 5,
   "metadata": {},
   "outputs": [
    {
     "data": {
      "text/plain": [
       "['PRODUCED', 'DIRECTED', 'WROTE', 'ACTED_IN', 'Person', 'Movie']"
      ]
     },
     "execution_count": 5,
     "metadata": {},
     "output_type": "execute_result"
    }
   ],
   "source": [
    "type_selection = potato[\"edge_type_selection\"] + potato[\"node_type_selection\"]\n",
    "types = []\n",
    "for pair in type_selection:\n",
    "    types.append(pair[0])\n",
    "types"
   ]
  },
  {
   "cell_type": "code",
   "execution_count": 6,
   "metadata": {},
   "outputs": [],
   "source": [
    "def extract_mps(data):\n",
    "    count = 0\n",
    "    first = True\n",
    "    batches = []\n",
    "    batch = []\n",
    "    for probably_path in data[\"meta_paths\"]:\n",
    "        if count % 6 == 0:\n",
    "            # Don't add empty batches\n",
    "            if len(batch) > 0:\n",
    "                batches.append(batch)\n",
    "                batch = []\n",
    "        else:\n",
    "            if 'time_to_rate' not in probably_path.keys():\n",
    "                batch.append(probably_path)\n",
    "        count += 1\n",
    "    # append last batch\n",
    "    if len(batch) > 0:\n",
    "        batches.append(batch)\n",
    "    print('#meta-paths:', count - len(batches) - 1)\n",
    "    return batches"
   ]
  },
  {
   "cell_type": "code",
   "execution_count": 7,
   "metadata": {},
   "outputs": [],
   "source": [
    "def construct_graph(batches):\n",
    "    ## Construct rating graph\n",
    "    from util.datastructures import MetaPathRatingGraph, MetaPath\n",
    "    graph = MetaPathRatingGraph()\n",
    "\n",
    "    for batch in batches:\n",
    "        #ordered = sorted(batch, key=lambda x: float(x['rating']))\n",
    "        for metapath in batch:\n",
    "            for another_metapath in batch:\n",
    "                if metapath is another_metapath:\n",
    "                    continue\n",
    "                if float(metapath['rating']) <= float(another_metapath['rating']):\n",
    "                    graph.add_user_rating(MetaPath.from_list(another_metapath['metapath']), MetaPath.from_list(metapath['metapath']), \n",
    "                                          distance=float(another_metapath['rating']) - float(metapath['rating']))\n",
    "    return graph"
   ]
  },
  {
   "cell_type": "code",
   "execution_count": 8,
   "metadata": {},
   "outputs": [],
   "source": [
    "## Clean up data // remove time_to_rate from array of ratings.\n",
    "def clean_up(data):\n",
    "    batches = extract_mps(data)\n",
    "    return batches, construct_graph(batches)"
   ]
  },
  {
   "cell_type": "code",
   "execution_count": 9,
   "metadata": {},
   "outputs": [
    {
     "name": "stdout",
     "output_type": "stream",
     "text": [
      "#meta-paths: 51\n"
     ]
    }
   ],
   "source": [
    "p_batches, p_graph = clean_up(potato)"
   ]
  },
  {
   "cell_type": "code",
   "execution_count": 10,
   "metadata": {},
   "outputs": [],
   "source": [
    "from sklearn.feature_extraction.text import TfidfVectorizer\n",
    "from sklearn.model_selection import train_test_split\n",
    "from sklearn.metrics import mean_squared_error"
   ]
  },
  {
   "cell_type": "code",
   "execution_count": 11,
   "metadata": {},
   "outputs": [],
   "source": [
    "domain_score = domain_scoring.DomainScoringRegressor()"
   ]
  },
  {
   "cell_type": "code",
   "execution_count": 12,
   "metadata": {},
   "outputs": [],
   "source": [
    "# Preprocess meta-paths\n",
    "domain_score.vectorizer = TfidfVectorizer(analyzer='word', ngram_range=(1, 2), token_pattern='\\\\b\\\\w+\\\\b')"
   ]
  },
  {
   "cell_type": "code",
   "execution_count": 13,
   "metadata": {},
   "outputs": [],
   "source": [
    "domain_score.fit(p_graph)"
   ]
  },
  {
   "cell_type": "code",
   "execution_count": 14,
   "metadata": {},
   "outputs": [],
   "source": [
    "x, y = domain_score._extract_data_labels(p_graph)\n",
    "x_raw = x\n",
    "x = domain_score._preprocess(x)"
   ]
  },
  {
   "cell_type": "code",
   "execution_count": 15,
   "metadata": {},
   "outputs": [],
   "source": [
    "from sklearn import preprocessing\n",
    "from keras.preprocessing.sequence import pad_sequences"
   ]
  },
  {
   "cell_type": "code",
   "execution_count": 16,
   "metadata": {},
   "outputs": [
    {
     "data": {
      "text/plain": [
       "LabelEncoder()"
      ]
     },
     "execution_count": 16,
     "metadata": {},
     "output_type": "execute_result"
    }
   ],
   "source": [
    "labeler = preprocessing.LabelEncoder()\n",
    "labeler.fit(types)"
   ]
  },
  {
   "cell_type": "code",
   "execution_count": 17,
   "metadata": {},
   "outputs": [],
   "source": [
    "def to_sequence(in_list):\n",
    "    return in_list.reshape((-1, 1))"
   ]
  },
  {
   "cell_type": "code",
   "execution_count": 18,
   "metadata": {},
   "outputs": [],
   "source": [
    "def one_hot(in_sequence, distinct_values):\n",
    "    sequence = np.zeros((len(in_sequence), distinct_values))\n",
    "    i = 0\n",
    "    for point in in_sequence:      \n",
    "        sequence[i][point] = 1\n",
    "        i += 1\n",
    "    return sequence"
   ]
  },
  {
   "cell_type": "code",
   "execution_count": 19,
   "metadata": {},
   "outputs": [],
   "source": [
    "def preprocess_raw(raw, distinct_values, max_len=9):\n",
    "    data = []\n",
    "    for a,b in raw:\n",
    "        # encode labels to integers (0 is reserved for padding)\n",
    "        a = np.array(labeler.transform(a.as_list())) + 1\n",
    "        b = np.array(labeler.transform(b.as_list())) + 1\n",
    "        # pad to same length\n",
    "        a, b = pad_sequences([a, b], max_len, padding='post', value=0)\n",
    "        # merge a and b\n",
    "        sequence = np.append(a, b)\n",
    "        # to sequence\n",
    "        sequence = to_sequence(sequence)\n",
    "        # one-hot encode because we don't have distances/embeddings\n",
    "        sequence = one_hot(sequence, distinct_values + 1)\n",
    "        data.append(sequence)\n",
    "    return data"
   ]
  },
  {
   "cell_type": "code",
   "execution_count": 20,
   "metadata": {},
   "outputs": [],
   "source": [
    "x_preprocess = preprocess_raw(x_raw, len(types))"
   ]
  },
  {
   "cell_type": "code",
   "execution_count": 21,
   "metadata": {},
   "outputs": [],
   "source": [
    "test_size = 0.3\n",
    "random_state = 42"
   ]
  },
  {
   "cell_type": "code",
   "execution_count": 22,
   "metadata": {},
   "outputs": [],
   "source": [
    "x_train, x_test, y_train, y_test = train_test_split(x, y,\n",
    "                                                    test_size=test_size,\n",
    "                                                    random_state=random_state,\n",
    "                                                    shuffle=True)"
   ]
  },
  {
   "cell_type": "code",
   "execution_count": 23,
   "metadata": {},
   "outputs": [
    {
     "data": {
      "text/plain": [
       "135"
      ]
     },
     "execution_count": 23,
     "metadata": {},
     "output_type": "execute_result"
    }
   ],
   "source": [
    "len(x_train)"
   ]
  },
  {
   "cell_type": "code",
   "execution_count": 24,
   "metadata": {},
   "outputs": [
    {
     "data": {
      "text/plain": [
       "(135, 44)"
      ]
     },
     "execution_count": 24,
     "metadata": {},
     "output_type": "execute_result"
    }
   ],
   "source": [
    "np.array(x_train).shape"
   ]
  },
  {
   "cell_type": "code",
   "execution_count": 25,
   "metadata": {},
   "outputs": [
    {
     "data": {
      "text/plain": [
       "[0.15,\n",
       " -0.15,\n",
       " 0.04999999999999999,\n",
       " -0.04999999999999999,\n",
       " 0.04999999999999999,\n",
       " -0.04999999999999999,\n",
       " 0.1,\n",
       " -0.1,\n",
       " 0.1,\n",
       " -0.1,\n",
       " 0.05000000000000002,\n",
       " -0.05000000000000002,\n",
       " 0.1,\n",
       " -0.1,\n",
       " 0.05000000000000002,\n",
       " -0.05000000000000002,\n",
       " 0.04999999999999999,\n",
       " -0.04999999999999999,\n",
       " 0.1,\n",
       " -0.1,\n",
       " 0.16,\n",
       " -0.16,\n",
       " 0.17,\n",
       " -0.17,\n",
       " 0.03,\n",
       " -0.03,\n",
       " 0.06,\n",
       " -0.06,\n",
       " 0.07,\n",
       " -0.07,\n",
       " 0.010000000000000009,\n",
       " -0.010000000000000009,\n",
       " 0.07,\n",
       " -0.07,\n",
       " 0.13,\n",
       " -0.13,\n",
       " 0.14,\n",
       " -0.14,\n",
       " 0.13,\n",
       " -0.13,\n",
       " 0.34,\n",
       " -0.34,\n",
       " 0.21000000000000002,\n",
       " -0.21000000000000002,\n",
       " 0.15000000000000002,\n",
       " -0.15000000000000002,\n",
       " 0.08000000000000002,\n",
       " -0.08000000000000002,\n",
       " 0.19,\n",
       " -0.19,\n",
       " 0.06,\n",
       " -0.06,\n",
       " 0.26,\n",
       " -0.26,\n",
       " 0.13,\n",
       " -0.13,\n",
       " 0.07,\n",
       " -0.07,\n",
       " 0.43,\n",
       " -0.43,\n",
       " 0.21000000000000002,\n",
       " -0.21000000000000002,\n",
       " 0.020000000000000018,\n",
       " -0.020000000000000018,\n",
       " 0.23000000000000004,\n",
       " -0.23000000000000004,\n",
       " 0.21999999999999997,\n",
       " -0.21999999999999997,\n",
       " 0.020000000000000018,\n",
       " -0.020000000000000018,\n",
       " 0.41,\n",
       " -0.41,\n",
       " 0.19,\n",
       " -0.19,\n",
       " 0.21000000000000002,\n",
       " -0.21000000000000002,\n",
       " 0.19999999999999996,\n",
       " -0.19999999999999996,\n",
       " 0.06,\n",
       " -0.06,\n",
       " 0.21999999999999997,\n",
       " -0.21999999999999997,\n",
       " 0.17000000000000004,\n",
       " -0.17000000000000004,\n",
       " 0.010000000000000009,\n",
       " -0.010000000000000009,\n",
       " 0.15999999999999998,\n",
       " -0.15999999999999998,\n",
       " 0.11000000000000004,\n",
       " -0.11000000000000004,\n",
       " 0.04999999999999993,\n",
       " -0.04999999999999993,\n",
       " 0.04999999999999999,\n",
       " -0.04999999999999999,\n",
       " 0.20999999999999996,\n",
       " -0.20999999999999996,\n",
       " 0.16000000000000003,\n",
       " -0.16000000000000003,\n",
       " 0.030000000000000027,\n",
       " -0.030000000000000027,\n",
       " 0.10000000000000003,\n",
       " -0.10000000000000003,\n",
       " 0.13000000000000006,\n",
       " -0.13000000000000006,\n",
       " 0.06,\n",
       " -0.06,\n",
       " 0.10000000000000003,\n",
       " -0.10000000000000003,\n",
       " 0.040000000000000036,\n",
       " -0.040000000000000036,\n",
       " 0.07000000000000006,\n",
       " -0.07000000000000006,\n",
       " 0.040000000000000036,\n",
       " -0.040000000000000036,\n",
       " 0.030000000000000027,\n",
       " -0.030000000000000027,\n",
       " 0.36999999999999994,\n",
       " -0.36999999999999994,\n",
       " 0.21000000000000002,\n",
       " -0.21000000000000002,\n",
       " 0.11000000000000001,\n",
       " -0.11000000000000001,\n",
       " 0.48,\n",
       " -0.48,\n",
       " 0.04000000000000001,\n",
       " -0.04000000000000001,\n",
       " 0.32000000000000006,\n",
       " -0.32000000000000006,\n",
       " 0.07,\n",
       " -0.07,\n",
       " 0.43999999999999995,\n",
       " -0.43999999999999995,\n",
       " 0.28,\n",
       " -0.28,\n",
       " 0.15999999999999992,\n",
       " -0.15999999999999992,\n",
       " 0.2,\n",
       " -0.2,\n",
       " 0.2,\n",
       " -0.2,\n",
       " 0.019999999999999962,\n",
       " -0.019999999999999962,\n",
       " 0.18000000000000005,\n",
       " -0.18000000000000005,\n",
       " 0.18000000000000005,\n",
       " -0.18000000000000005,\n",
       " 0.26,\n",
       " -0.26,\n",
       " 0.06,\n",
       " -0.06,\n",
       " 0.26,\n",
       " -0.26,\n",
       " 0.07999999999999996,\n",
       " -0.07999999999999996,\n",
       " 0.010000000000000009,\n",
       " -0.010000000000000009,\n",
       " 0.21000000000000002,\n",
       " -0.21000000000000002,\n",
       " 0.18,\n",
       " -0.18,\n",
       " 0.07999999999999996,\n",
       " -0.07999999999999996,\n",
       " 0.22000000000000003,\n",
       " -0.22000000000000003,\n",
       " 0.030000000000000027,\n",
       " -0.030000000000000027,\n",
       " 0.040000000000000036,\n",
       " -0.040000000000000036,\n",
       " 0.13000000000000006,\n",
       " -0.13000000000000006,\n",
       " 0.10000000000000003,\n",
       " -0.10000000000000003,\n",
       " 0.14000000000000007,\n",
       " -0.14000000000000007,\n",
       " 0.06000000000000005,\n",
       " -0.06000000000000005,\n",
       " 0.12,\n",
       " -0.12,\n",
       " 0.18000000000000005,\n",
       " -0.18000000000000005,\n",
       " 0.10000000000000009,\n",
       " -0.10000000000000009,\n",
       " 0.26999999999999996,\n",
       " -0.26999999999999996,\n",
       " 0.14999999999999997,\n",
       " -0.14999999999999997,\n",
       " 0.33,\n",
       " -0.33,\n",
       " 0.25000000000000006,\n",
       " -0.25000000000000006,\n",
       " 0.019999999999999907,\n",
       " -0.019999999999999907,\n",
       " 0.07999999999999996,\n",
       " -0.07999999999999996]"
      ]
     },
     "execution_count": 25,
     "metadata": {},
     "output_type": "execute_result"
    }
   ],
   "source": [
    "y"
   ]
  },
  {
   "cell_type": "code",
   "execution_count": 26,
   "metadata": {},
   "outputs": [],
   "source": [
    "os.environ['PYTHONHASHSEED'] = '0'\n",
    "def reset_seed():\n",
    "    np.random.seed(random_state)\n",
    "    rn.seed(random_state)\n",
    "    tf.set_random_seed(random_state)"
   ]
  },
  {
   "cell_type": "code",
   "execution_count": 27,
   "metadata": {},
   "outputs": [
    {
     "name": "stdout",
     "output_type": "stream",
     "text": [
      "Epoch 1/10\n",
      "135/135 [==============================] - 0s 778us/step - loss: 0.1938 - acc: 0.0000e+00\n",
      "Epoch 2/10\n",
      "135/135 [==============================] - 0s 137us/step - loss: 0.1129 - acc: 0.0000e+00\n",
      "Epoch 3/10\n",
      "135/135 [==============================] - 0s 194us/step - loss: 0.0664 - acc: 0.0000e+00\n",
      "Epoch 4/10\n",
      "135/135 [==============================] - 0s 185us/step - loss: 0.0462 - acc: 0.0000e+00\n",
      "Epoch 5/10\n",
      "135/135 [==============================] - 0s 171us/step - loss: 0.0378 - acc: 0.0000e+00\n",
      "Epoch 6/10\n",
      "135/135 [==============================] - 0s 163us/step - loss: 0.0346 - acc: 0.0000e+00\n",
      "Epoch 7/10\n",
      "135/135 [==============================] - 0s 149us/step - loss: 0.0334 - acc: 0.0000e+00\n",
      "Epoch 8/10\n",
      "135/135 [==============================] - 0s 130us/step - loss: 0.0327 - acc: 0.0000e+00\n",
      "Epoch 9/10\n",
      "135/135 [==============================] - 0s 171us/step - loss: 0.0323 - acc: 0.0000e+00\n",
      "Epoch 10/10\n",
      "135/135 [==============================] - 0s 178us/step - loss: 0.0320 - acc: 0.0000e+00\n"
     ]
    },
    {
     "data": {
      "text/plain": [
       "<keras.callbacks.History at 0x7f0b99df0eb8>"
      ]
     },
     "execution_count": 27,
     "metadata": {},
     "output_type": "execute_result"
    }
   ],
   "source": [
    "# Reproducible results\n",
    "reset_seed()\n",
    "# Build model\n",
    "model = Sequential()\n",
    "model.add(Dense(128, activation='relu', input_dim=44))\n",
    "model.add(Dense(1, activation='sigmoid'))\n",
    "model.compile(optimizer='adam',\n",
    "              loss='mean_squared_error',\n",
    "              metrics=['accuracy'])\n",
    "\n",
    "# Train model\n",
    "model.fit(np.array(x_train), np.array(y_train), epochs=10, batch_size=16)"
   ]
  },
  {
   "cell_type": "code",
   "execution_count": 28,
   "metadata": {},
   "outputs": [
    {
     "data": {
      "text/plain": [
       "0.03216452232974655"
      ]
     },
     "execution_count": 28,
     "metadata": {},
     "output_type": "execute_result"
    }
   ],
   "source": [
    "mean_squared_error(model.predict(np.array(x_test), batch_size=16), np.array(y_test))"
   ]
  },
  {
   "cell_type": "code",
   "execution_count": 29,
   "metadata": {},
   "outputs": [],
   "source": [
    "x_p_train, x_p_test, y_p_train, y_p_test = train_test_split(x_preprocess, y,\n",
    "                                                    test_size=test_size,\n",
    "                                                    random_state=random_state,\n",
    "                                                    shuffle=True)"
   ]
  },
  {
   "cell_type": "code",
   "execution_count": 30,
   "metadata": {},
   "outputs": [
    {
     "data": {
      "text/plain": [
       "(135, 18, 7)"
      ]
     },
     "execution_count": 30,
     "metadata": {},
     "output_type": "execute_result"
    }
   ],
   "source": [
    "np.array(x_p_train).shape"
   ]
  },
  {
   "cell_type": "code",
   "execution_count": 31,
   "metadata": {
    "scrolled": true
   },
   "outputs": [
    {
     "name": "stdout",
     "output_type": "stream",
     "text": [
      "Epoch 1/10\n",
      "135/135 [==============================] - 0s 2ms/step - loss: 0.1998 - acc: 0.0000e+00\n",
      "Epoch 2/10\n",
      "135/135 [==============================] - 0s 525us/step - loss: 0.0778 - acc: 0.0000e+00\n",
      "Epoch 3/10\n",
      "135/135 [==============================] - 0s 523us/step - loss: 0.0589 - acc: 0.0000e+00\n",
      "Epoch 4/10\n",
      "135/135 [==============================] - 0s 622us/step - loss: 0.0493 - acc: 0.0000e+00\n",
      "Epoch 5/10\n",
      "135/135 [==============================] - 0s 576us/step - loss: 0.0434 - acc: 0.0000e+00\n",
      "Epoch 6/10\n",
      "135/135 [==============================] - 0s 618us/step - loss: 0.0406 - acc: 0.0000e+00\n",
      "Epoch 7/10\n",
      "135/135 [==============================] - 0s 512us/step - loss: 0.0397 - acc: 0.0000e+00\n",
      "Epoch 8/10\n",
      "135/135 [==============================] - 0s 608us/step - loss: 0.0378 - acc: 0.0000e+00\n",
      "Epoch 9/10\n",
      "135/135 [==============================] - 0s 499us/step - loss: 0.0376 - acc: 0.0000e+00\n",
      "Epoch 10/10\n",
      "135/135 [==============================] - 0s 534us/step - loss: 0.0367 - acc: 0.0000e+00\n"
     ]
    },
    {
     "data": {
      "text/plain": [
       "<keras.callbacks.History at 0x7f0b87b89ba8>"
      ]
     },
     "execution_count": 31,
     "metadata": {},
     "output_type": "execute_result"
    }
   ],
   "source": [
    "# Reproducible results\n",
    "reset_seed()\n",
    "# Use sequence classification (RNN/LSTM)\n",
    "model_rnn = Sequential()\n",
    "model_rnn.add(SimpleRNN(256, input_shape=(18, 7)))\n",
    "model_rnn.add(Dropout(0.5))\n",
    "model_rnn.add(Dense(1, activation='sigmoid'))\n",
    "\n",
    "model_rnn.compile(loss='mean_squared_error',\n",
    "              optimizer='sgd',\n",
    "              metrics=['accuracy'])\n",
    "\n",
    "model_rnn.fit(np.array(x_p_train), np.array(y_p_train), batch_size=35, epochs=10)"
   ]
  },
  {
   "cell_type": "code",
   "execution_count": 45,
   "metadata": {},
   "outputs": [
    {
     "data": {
      "text/plain": [
       "0.035975770946391046"
      ]
     },
     "execution_count": 45,
     "metadata": {},
     "output_type": "execute_result"
    }
   ],
   "source": [
    "y_predicted = model_rnn.predict(np.array(x_p_test), batch_size=16)\n",
    "y_p_test = np.array(y_p_test)\n",
    "mean_squared_error(y_predicted, Y_p_test)"
   ]
  },
  {
   "cell_type": "code",
   "execution_count": 46,
   "metadata": {},
   "outputs": [
    {
     "name": "stdout",
     "output_type": "stream",
     "text": [
      "Test accuracy is 0.423728813559322\n"
     ]
    }
   ],
   "source": [
    "score = np.mean(np.logical_and((y_p_test) > 0, (y_predicted) > 0))\n",
    "print('Test accuracy is {}'.format(score))"
   ]
  },
  {
   "cell_type": "code",
   "execution_count": null,
   "metadata": {},
   "outputs": [],
   "source": []
  }
 ],
 "metadata": {
  "kernelspec": {
   "display_name": "Python 3",
   "language": "python",
   "name": "python3"
  },
  "language_info": {
   "codemirror_mode": {
    "name": "ipython",
    "version": 3
   },
   "file_extension": ".py",
   "mimetype": "text/x-python",
   "name": "python",
   "nbconvert_exporter": "python",
   "pygments_lexer": "ipython3",
   "version": "3.5.2"
  }
 },
 "nbformat": 4,
 "nbformat_minor": 2
}
