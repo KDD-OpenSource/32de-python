{
 "cells": [
  {
   "cell_type": "code",
   "execution_count": 1,
   "metadata": {},
   "outputs": [
    {
     "name": "stderr",
     "output_type": "stream",
     "text": [
      "Using TensorFlow backend.\n"
     ]
    }
   ],
   "source": [
    "from keras.models import Sequential\n",
    "from keras.layers import *\n",
    "from keras.callbacks import EarlyStopping"
   ]
  },
  {
   "cell_type": "code",
   "execution_count": 2,
   "metadata": {},
   "outputs": [],
   "source": [
    "## Help Python find our packages\n",
    "import sys\n",
    "sys.path.append('..')\n",
    "\n",
    "import json\n",
    "import numpy as np\n",
    "import matplotlib.pyplot as plt\n",
    "import domain_scoring.domain_scoring as domain_scoring\n",
    "\n",
    "# Randomness\n",
    "import random as rn\n",
    "import tensorflow as tf\n",
    "import os"
   ]
  },
  {
   "cell_type": "code",
   "execution_count": 3,
   "metadata": {},
   "outputs": [],
   "source": [
    "from sklearn.feature_extraction.text import TfidfVectorizer\n",
    "from sklearn.model_selection import train_test_split"
   ]
  },
  {
   "cell_type": "code",
   "execution_count": 4,
   "metadata": {},
   "outputs": [],
   "source": [
    "from sklearn import preprocessing\n",
    "from keras.preprocessing.sequence import pad_sequences"
   ]
  },
  {
   "cell_type": "markdown",
   "metadata": {},
   "source": [
    "## Load the data\n",
    "Load the data we want to work with"
   ]
  },
  {
   "cell_type": "code",
   "execution_count": 5,
   "metadata": {},
   "outputs": [],
   "source": [
    "path = '../rated_datasets/Rotten Tomato_Potato_1519142479.127663.json'"
   ]
  },
  {
   "cell_type": "code",
   "execution_count": 6,
   "metadata": {},
   "outputs": [],
   "source": [
    "data = json.load(open(path, \"r\", encoding=\"utf8\"))"
   ]
  },
  {
   "cell_type": "code",
   "execution_count": 7,
   "metadata": {},
   "outputs": [
    {
     "data": {
      "text/plain": [
       "['ACTED_IN', 'PRODUCED', 'DIRECTED', 'WROTE', 'Person', 'Movie']"
      ]
     },
     "execution_count": 7,
     "metadata": {},
     "output_type": "execute_result"
    }
   ],
   "source": [
    "type_selection = data[\"edge_type_selection\"] + data[\"node_type_selection\"]\n",
    "types = []\n",
    "for pair in type_selection:\n",
    "    types.append(pair[0])\n",
    "types"
   ]
  },
  {
   "cell_type": "markdown",
   "metadata": {},
   "source": [
    "## Data extraction\n",
    "Define functions for extraction and extract the data we need"
   ]
  },
  {
   "cell_type": "code",
   "execution_count": 8,
   "metadata": {},
   "outputs": [],
   "source": [
    "def extract_mps(data):\n",
    "    count = 0\n",
    "    first = True\n",
    "    batches = []\n",
    "    batch = []\n",
    "    for probably_path in data[\"meta_paths\"]:\n",
    "        if count % 6 == 0:\n",
    "            # Don't add empty batches\n",
    "            if len(batch) > 0:\n",
    "                batches.append(batch)\n",
    "                batch = []\n",
    "        else:\n",
    "            if 'time_to_rate' not in probably_path.keys():\n",
    "                batch.append(probably_path)\n",
    "        count += 1\n",
    "    # append last batch\n",
    "    if len(batch) > 0:\n",
    "        batches.append(batch)\n",
    "    print('#meta-paths:', count - len(batches) - 1)\n",
    "    return batches"
   ]
  },
  {
   "cell_type": "code",
   "execution_count": 9,
   "metadata": {},
   "outputs": [],
   "source": [
    "def construct_graph(batches):\n",
    "    ## Construct rating graph\n",
    "    from util.datastructures import MetaPathRatingGraph, MetaPath\n",
    "    graph = MetaPathRatingGraph()\n",
    "\n",
    "    for batch in batches:\n",
    "        #ordered = sorted(batch, key=lambda x: float(x['rating']))\n",
    "        for metapath in batch:\n",
    "            for another_metapath in batch:\n",
    "                if metapath is another_metapath:\n",
    "                    continue\n",
    "                if float(metapath['rating']) <= float(another_metapath['rating']):\n",
    "                    graph.add_user_rating(MetaPath.from_list(another_metapath['metapath']), MetaPath.from_list(metapath['metapath']), \n",
    "                                          distance=float(another_metapath['rating']) - float(metapath['rating']))\n",
    "    return graph"
   ]
  },
  {
   "cell_type": "code",
   "execution_count": 10,
   "metadata": {},
   "outputs": [],
   "source": [
    "## Clean up data // remove time_to_rate from array of ratings.\n",
    "def clean_up(data):\n",
    "    batches = extract_mps(data)\n",
    "    return batches, construct_graph(batches)"
   ]
  },
  {
   "cell_type": "code",
   "execution_count": 11,
   "metadata": {},
   "outputs": [
    {
     "name": "stdout",
     "output_type": "stream",
     "text": [
      "#meta-paths: 51\n"
     ]
    }
   ],
   "source": [
    "batches, graph = clean_up(data)"
   ]
  },
  {
   "cell_type": "markdown",
   "metadata": {},
   "source": [
    "## Preprocessing\n",
    "Define functions for preprocessing and preprocess the data for training"
   ]
  },
  {
   "cell_type": "code",
   "execution_count": 12,
   "metadata": {},
   "outputs": [],
   "source": [
    "def to_sequence(in_list):\n",
    "    return in_list.reshape((-1, 1))"
   ]
  },
  {
   "cell_type": "code",
   "execution_count": 24,
   "metadata": {},
   "outputs": [],
   "source": [
    "def one_hot(in_sequence, distinct_values):\n",
    "    sequence = np.zeros((len(in_sequence), distinct_values))\n",
    "    i = 0\n",
    "    for point in in_sequence:      \n",
    "        sequence[i][point] = 1\n",
    "        i += 1\n",
    "    return sequence"
   ]
  },
  {
   "cell_type": "code",
   "execution_count": 25,
   "metadata": {},
   "outputs": [],
   "source": [
    "def preprocess_raw(raw, types, max_len=9):\n",
    "    labeler = preprocessing.LabelEncoder()\n",
    "    labeler.fit(types)\n",
    "    distinct_values = len(types)\n",
    "    \n",
    "    data = []\n",
    "    for a,b in raw:\n",
    "        # encode labels to integers (0 is reserved for padding)\n",
    "        a = np.array(labeler.transform(a.as_list())) + 1\n",
    "        b = np.array(labeler.transform(b.as_list())) + 1\n",
    "        # pad to same length\n",
    "        a, b = pad_sequences([a, b], max_len, padding='post', value=0)\n",
    "        # merge a and b\n",
    "        sequence = np.append(a, b)\n",
    "        # to sequence\n",
    "        sequence = to_sequence(sequence)\n",
    "        # one-hot encode because we don't have distances/embeddings\n",
    "        sequence = one_hot(sequence, distinct_values + 1)\n",
    "        data.append(sequence)\n",
    "    return data"
   ]
  },
  {
   "cell_type": "code",
   "execution_count": 26,
   "metadata": {},
   "outputs": [],
   "source": [
    "# Use methods from our own domain scoring module as this will finally implement our model.\n",
    "domain_score = domain_scoring.DomainScoring()\n",
    "# Extract data and labels\n",
    "x, y = domain_score._extract_data_labels(graph)"
   ]
  },
  {
   "cell_type": "code",
   "execution_count": null,
   "metadata": {},
   "outputs": [],
   "source": [
    "# TODO: Add further features:\n",
    "# 1. Neighbor node types in graph schema\n",
    "# 2. Length of mp\n",
    "# 3. Number of instances?"
   ]
  },
  {
   "cell_type": "code",
   "execution_count": 27,
   "metadata": {},
   "outputs": [],
   "source": [
    "x_preprocess = preprocess_raw(x, types)"
   ]
  },
  {
   "cell_type": "markdown",
   "metadata": {},
   "source": [
    "## Setup\n",
    "Setup the training process"
   ]
  },
  {
   "cell_type": "code",
   "execution_count": 28,
   "metadata": {},
   "outputs": [],
   "source": [
    "test_size = 0.3\n",
    "random_state = 42"
   ]
  },
  {
   "cell_type": "code",
   "execution_count": 29,
   "metadata": {},
   "outputs": [],
   "source": [
    "# Make sure we have reproducible results\n",
    "os.environ['PYTHONHASHSEED'] = '0'\n",
    "def reset_seed():\n",
    "    np.random.seed(random_state)\n",
    "    rn.seed(random_state)\n",
    "    tf.set_random_seed(random_state)"
   ]
  },
  {
   "cell_type": "code",
   "execution_count": 30,
   "metadata": {},
   "outputs": [],
   "source": [
    "# Split in test and train data\n",
    "x_p_train, x_p_test, y_p_train, y_p_test = train_test_split(x_preprocess, y,\n",
    "                                                    test_size=test_size,\n",
    "                                                    random_state=random_state,\n",
    "                                                    shuffle=True)"
   ]
  },
  {
   "cell_type": "code",
   "execution_count": 31,
   "metadata": {},
   "outputs": [
    {
     "data": {
      "text/plain": [
       "(131, 18, 7)"
      ]
     },
     "execution_count": 31,
     "metadata": {},
     "output_type": "execute_result"
    }
   ],
   "source": [
    "np.array(x_p_train).shape"
   ]
  },
  {
   "cell_type": "markdown",
   "metadata": {},
   "source": [
    "## Train\n",
    "Do the actual training and validation"
   ]
  },
  {
   "cell_type": "code",
   "execution_count": 32,
   "metadata": {
    "scrolled": true
   },
   "outputs": [
    {
     "name": "stdout",
     "output_type": "stream",
     "text": [
      "Epoch 1/25\n",
      "131/131 [==============================] - 0s 2ms/step - loss: 0.7043 - acc: 0.5725\n",
      "Epoch 2/25\n",
      "131/131 [==============================] - 0s 336us/step - loss: 0.5798 - acc: 0.6641\n",
      "Epoch 3/25\n",
      "131/131 [==============================] - 0s 274us/step - loss: 0.5719 - acc: 0.6641\n",
      "Epoch 4/25\n",
      "131/131 [==============================] - 0s 336us/step - loss: 0.4939 - acc: 0.7252\n",
      "Epoch 5/25\n",
      "131/131 [==============================] - 0s 256us/step - loss: 0.5131 - acc: 0.7176\n",
      "Epoch 6/25\n",
      "131/131 [==============================] - 0s 256us/step - loss: 0.5070 - acc: 0.7328\n",
      "Epoch 7/25\n",
      "131/131 [==============================] - 0s 341us/step - loss: 0.5143 - acc: 0.7252\n",
      "Epoch 8/25\n",
      "131/131 [==============================] - 0s 349us/step - loss: 0.4986 - acc: 0.7481\n",
      "Epoch 9/25\n",
      "131/131 [==============================] - 0s 301us/step - loss: 0.4626 - acc: 0.7939\n",
      "Epoch 10/25\n",
      "131/131 [==============================] - 0s 305us/step - loss: 0.4559 - acc: 0.7634\n",
      "Epoch 11/25\n",
      "131/131 [==============================] - 0s 217us/step - loss: 0.4785 - acc: 0.7710\n",
      "Epoch 12/25\n",
      "131/131 [==============================] - 0s 330us/step - loss: 0.4430 - acc: 0.7939\n",
      "Epoch 13/25\n",
      "131/131 [==============================] - 0s 437us/step - loss: 0.4717 - acc: 0.7863\n",
      "Epoch 14/25\n",
      "131/131 [==============================] - 0s 371us/step - loss: 0.4550 - acc: 0.7557\n",
      "Epoch 15/25\n",
      "131/131 [==============================] - 0s 483us/step - loss: 0.4401 - acc: 0.7634\n",
      "Epoch 16/25\n",
      "131/131 [==============================] - 0s 399us/step - loss: 0.4434 - acc: 0.7863\n",
      "Epoch 17/25\n",
      "131/131 [==============================] - 0s 275us/step - loss: 0.4154 - acc: 0.7863\n",
      "Epoch 18/25\n",
      "131/131 [==============================] - 0s 649us/step - loss: 0.3993 - acc: 0.8015\n",
      "Epoch 19/25\n",
      "131/131 [==============================] - 0s 482us/step - loss: 0.3918 - acc: 0.8244\n",
      "Epoch 20/25\n",
      "131/131 [==============================] - 0s 503us/step - loss: 0.3787 - acc: 0.8168\n",
      "Epoch 21/25\n",
      "131/131 [==============================] - 0s 334us/step - loss: 0.4270 - acc: 0.7939\n",
      "Epoch 22/25\n",
      "131/131 [==============================] - 0s 458us/step - loss: 0.3979 - acc: 0.8015\n",
      "Epoch 23/25\n",
      "131/131 [==============================] - 0s 422us/step - loss: 0.3603 - acc: 0.8092\n",
      "Epoch 24/25\n",
      "131/131 [==============================] - 0s 266us/step - loss: 0.4018 - acc: 0.8321\n",
      "Epoch 25/25\n",
      "131/131 [==============================] - 0s 368us/step - loss: 0.3843 - acc: 0.8626\n"
     ]
    },
    {
     "data": {
      "text/plain": [
       "<keras.callbacks.History at 0x7f1bceaf29e8>"
      ]
     },
     "execution_count": 32,
     "metadata": {},
     "output_type": "execute_result"
    }
   ],
   "source": [
    "# Reproducible results\n",
    "reset_seed()\n",
    "# Use sequence classification (RNN/LSTM)\n",
    "model_rnn = Sequential()\n",
    "model_rnn.add(SimpleRNN(128, input_shape=(18, 7)))\n",
    "model_rnn.add(Dropout(0.5))\n",
    "model_rnn.add(Dense(1, activation='sigmoid'))\n",
    "\n",
    "model_rnn.compile(loss='binary_crossentropy',\n",
    "              optimizer='rmsprop',\n",
    "              metrics=['accuracy'])\n",
    "\n",
    "model_rnn.fit(np.array(x_p_train), np.array(y_p_train), batch_size=35, epochs=25, callbacks=[])"
   ]
  },
  {
   "cell_type": "code",
   "execution_count": 33,
   "metadata": {},
   "outputs": [
    {
     "name": "stdout",
     "output_type": "stream",
     "text": [
      "57/57 [==============================] - 0s 2ms/step\n"
     ]
    },
    {
     "data": {
      "text/plain": [
       "[0.5171718952948587, 0.8245614223312914]"
      ]
     },
     "execution_count": 33,
     "metadata": {},
     "output_type": "execute_result"
    }
   ],
   "source": [
    "model_rnn.evaluate(np.array(x_p_test), np.array(y_p_test), batch_size=35)"
   ]
  }
 ],
 "metadata": {
  "kernelspec": {
   "display_name": "Python 3",
   "language": "python",
   "name": "python3"
  },
  "language_info": {
   "codemirror_mode": {
    "name": "ipython",
    "version": 3
   },
   "file_extension": ".py",
   "mimetype": "text/x-python",
   "name": "python",
   "nbconvert_exporter": "python",
   "pygments_lexer": "ipython3",
   "version": "3.5.2"
  }
 },
 "nbformat": 4,
 "nbformat_minor": 2
}
